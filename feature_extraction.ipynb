{
  "nbformat": 4,
  "nbformat_minor": 0,
  "metadata": {
    "colab": {
      "provenance": []
    },
    "kernelspec": {
      "name": "python3",
      "display_name": "Python 3"
    },
    "language_info": {
      "name": "python"
    }
  },
  "cells": [
    {
      "cell_type": "code",
      "execution_count": null,
      "metadata": {
        "id": "7qYBmc6j1WFm"
      },
      "outputs": [],
      "source": []
    },
    {
      "cell_type": "code",
      "source": [
        "from sklearn.feature_extraction.text import TfidfVectorizer\n",
        "\n",
        "# Sample text data\n",
        "documents = [\n",
        "    \"Machine learning is great.\",\n",
        "    \"Natural language processing is a subfield of machine learning.\",\n",
        "    \"Feature extraction helps in preprocessing the data for ML.\"\n",
        "]\n",
        "\n",
        "# Create a TF-IDF Vectorizer\n",
        "vectorizer = TfidfVectorizer()\n",
        "\n",
        "# Fit and transform the documents to a term-document matrix\n",
        "X = vectorizer.fit_transform(documents)\n",
        "\n",
        "# Display the feature names\n",
        "print(vectorizer.get_feature_names_out())\n",
        "\n",
        "# Show the transformed data\n",
        "print(X.toarray())\n"
      ],
      "metadata": {
        "colab": {
          "base_uri": "https://localhost:8080/"
        },
        "id": "evG_LNyi1ZwH",
        "outputId": "3e1f9206-f275-4d76-9168-f3ea732b36e8"
      },
      "execution_count": null,
      "outputs": [
        {
          "output_type": "stream",
          "name": "stdout",
          "text": [
            "['data' 'extraction' 'feature' 'for' 'great' 'helps' 'in' 'is' 'language'\n",
            " 'learning' 'machine' 'ml' 'natural' 'of' 'preprocessing' 'processing'\n",
            " 'subfield' 'the']\n",
            "[[0.         0.         0.         0.         0.60465213 0.\n",
            "  0.         0.45985353 0.         0.45985353 0.45985353 0.\n",
            "  0.         0.         0.         0.         0.         0.        ]\n",
            " [0.         0.         0.         0.         0.         0.\n",
            "  0.         0.29304799 0.38532289 0.29304799 0.29304799 0.\n",
            "  0.38532289 0.38532289 0.         0.38532289 0.38532289 0.        ]\n",
            " [0.33333333 0.33333333 0.33333333 0.33333333 0.         0.33333333\n",
            "  0.33333333 0.         0.         0.         0.         0.33333333\n",
            "  0.         0.         0.33333333 0.         0.         0.33333333]]\n"
          ]
        }
      ]
    }
  ]
}