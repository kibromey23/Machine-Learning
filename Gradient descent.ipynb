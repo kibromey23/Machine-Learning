{
 "cells": [
  {
   "cell_type": "markdown",
   "id": "4a0b0c5b-0b60-4c5a-b7fa-356a0c31de41",
   "metadata": {},
   "source": [
    "### Importing dependecies"
   ]
  },
  {
   "cell_type": "code",
   "execution_count": 39,
   "id": "1bbf5d2d-021c-46e4-b8c4-dab1198ea0e4",
   "metadata": {},
   "outputs": [],
   "source": [
    "import numpy as np\n",
    "import matplotlib.pyplot as plt"
   ]
  },
  {
   "cell_type": "code",
   "execution_count": 41,
   "id": "8300f7ea-7b88-4d46-ac00-14ae06852427",
   "metadata": {},
   "outputs": [
    {
     "name": "stdout",
     "output_type": "stream",
     "text": [
      "Iteration 0: Cost=60.6667, w=0.6067, b=0.1400\n",
      "Iteration 100: Cost=0.0182, w=1.9285, b=0.3062\n",
      "Iteration 200: Cost=0.0087, w=1.9504, b=0.2124\n",
      "Iteration 300: Cost=0.0042, w=1.9656, b=0.1474\n",
      "Iteration 400: Cost=0.0020, w=1.9761, b=0.1023\n",
      "Iteration 500: Cost=0.0010, w=1.9834, b=0.0709\n",
      "Iteration 600: Cost=0.0005, w=1.9885, b=0.0492\n",
      "Iteration 700: Cost=0.0002, w=1.9920, b=0.0341\n",
      "Iteration 800: Cost=0.0001, w=1.9945, b=0.0237\n",
      "Iteration 900: Cost=0.0001, w=1.9962, b=0.0164\n",
      "\n",
      "Final results:\n",
      "w = 1.9973\n",
      "b = 0.0114\n"
     ]
    }
   ],
   "source": [
    "# Data\n",
    "x = np.array([1, 2, 3, 4, 5, 6])\n",
    "y = np.array([2, 4, 6, 8, 10, 12])\n",
    "\n",
    "# Hyperparameters\n",
    "a = 0.01        # learning rate\n",
    "iterations = 1000\n",
    "m = len(x)      # number of samples\n",
    "\n",
    "# Initialize parameters\n",
    "w = 0\n",
    "b = 0\n",
    "\n",
    "def gradient_desc(x, y, w, b, a, iterations):\n",
    "    m = len(x)\n",
    "\n",
    "    for i in range(iterations):\n",
    "        # Predictions based on current w, b\n",
    "        y_pred = w * x + b\n",
    "\n",
    "        # Compute gradients\n",
    "        dw = (2/m) * np.sum(x * (y_pred - y))\n",
    "        db = (2/m) * np.sum(y_pred - y)\n",
    "\n",
    "        # Update parameters\n",
    "        w -= a * dw\n",
    "        b -= a * db\n",
    "\n",
    "        # Compute cost (Mean Squared Error)\n",
    "        cost = (1/m) * np.sum((y_pred - y)**2)\n",
    "\n",
    "        # Print progress every 100 steps\n",
    "        if i % 100 == 0:\n",
    "            print(f\"Iteration {i}: Cost={cost:.4f}, w={w:.4f}, b={b:.4f}\")\n",
    "\n",
    "    return w, b\n",
    "\n",
    "# Run gradient descent\n",
    "w_final, b_final = gradient_desc(x, y, w, b, a, iterations)\n",
    "\n",
    "print(\"\\nFinal results:\")\n",
    "print(f\"w = {w_final:.4f}\")\n",
    "print(f\"b = {b_final:.4f}\")\n"
   ]
  },
  {
   "cell_type": "code",
   "execution_count": 43,
   "id": "fa329be5-6f3b-45a1-8d10-5e96a71e00e0",
   "metadata": {},
   "outputs": [
    {
     "data": {
      "image/png": "[encoded data removed]",
      "text/plain": [
       "<Figure size 640x480 with 1 Axes>"
      ]
     },
     "metadata": {},
     "output_type": "display_data"
    }
   ],
   "source": [
    "plt.scatter(x, y, color='red', label='Actual data')\n",
    "plt.plot(x, w_final*x + b_final, color='blue', label='Fitted line')\n",
    "plt.xlabel('x')\n",
    "plt.ylabel('y')\n",
    "plt.legend()\n",
    "plt.show()\n"
   ]
  },
  {
   "cell_type": "code",
   "execution_count": null,
   "id": "fa4c9bc1-7740-457a-aa2a-b91191ddec5c",
   "metadata": {},
   "outputs": [],
   "source": []
  }
 ],
 "metadata": {
  "kernelspec": {
   "display_name": "Python [conda env:base] *",
   "language": "python",
   "name": "conda-base-py"
  },
  "language_info": {
   "codemirror_mode": {
    "name": "ipython",
    "version": 3
   },
   "file_extension": ".py",
   "mimetype": "text/x-python",
   "name": "python",
   "nbconvert_exporter": "python",
   "pygments_lexer": "ipython3",
   "version": "3.12.7"
  }
 },
 "nbformat": 4,
 "nbformat_minor": 5
}
