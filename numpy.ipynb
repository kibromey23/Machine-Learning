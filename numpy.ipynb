{
 "cells": [
  {
   "cell_type": "markdown",
   "id": "ed57b177-edc6-42c0-a06e-6a77a1ecfbce",
   "metadata": {},
   "source": [
    "## <font color = green> Numpy Tutotrail </font>"
   ]
  },
  {
   "cell_type": "code",
   "execution_count": 2,
   "id": "1a4a8bac-eac6-4237-9e9e-3e612dfbedf0",
   "metadata": {},
   "outputs": [],
   "source": [
    "import pandas as pd\n",
    "import numpy as np\n",
    "import seaborn as sn\n",
    "import matplotlib.pyplot as plt"
   ]
  },
  {
   "cell_type": "markdown",
   "id": "7a2af6a5-aa5d-4c55-89cc-d27347250215",
   "metadata": {},
   "source": [
    "#### to create numpy array from a list"
   ]
  },
  {
   "cell_type": "code",
   "execution_count": 28,
   "id": "bad6a9c5-2b6b-4709-a01b-83c0b2a69046",
   "metadata": {},
   "outputs": [
    {
     "data": {
      "text/plain": [
       "array([1, 2, 3, 4, 5, 6, 7, 8, 9])"
      ]
     },
     "execution_count": 28,
     "metadata": {},
     "output_type": "execute_result"
    }
   ],
   "source": [
    "arr =np.array([1,2,3,4,5,6,7,8,9])\n",
    "arr"
   ]
  },
  {
   "cell_type": "markdown",
   "id": "41a16dee-e231-45ca-b53a-691481c4b7f0",
   "metadata": {},
   "source": [
    "#### type of the array"
   ]
  },
  {
   "cell_type": "code",
   "execution_count": 30,
   "id": "80a8d2b6-d9cb-4b08-a5ec-df6f03e75c20",
   "metadata": {},
   "outputs": [
    {
     "data": {
      "text/plain": [
       "numpy.ndarray"
      ]
     },
     "execution_count": 30,
     "metadata": {},
     "output_type": "execute_result"
    }
   ],
   "source": [
    "type(arr)"
   ]
  },
  {
   "cell_type": "markdown",
   "id": "8bf48092-cffa-4ff1-9568-4f1aad0510fb",
   "metadata": {},
   "source": [
    "#### shape of the array"
   ]
  },
  {
   "cell_type": "code",
   "execution_count": 32,
   "id": "cc2511b7-78cc-486c-b405-b29e597ba6e2",
   "metadata": {},
   "outputs": [
    {
     "data": {
      "text/plain": [
       "(9,)"
      ]
     },
     "execution_count": 32,
     "metadata": {},
     "output_type": "execute_result"
    }
   ],
   "source": [
    "arr.shape"
   ]
  },
  {
   "cell_type": "markdown",
   "id": "5ccb0fac-e18c-479b-98cb-3d17c4a2ec00",
   "metadata": {},
   "source": [
    "#### dimension of the array"
   ]
  },
  {
   "cell_type": "code",
   "execution_count": 34,
   "id": "1824cbe1-17ae-426f-b384-c62f2525c19b",
   "metadata": {},
   "outputs": [
    {
     "data": {
      "text/plain": [
       "1"
      ]
     },
     "execution_count": 34,
     "metadata": {},
     "output_type": "execute_result"
    }
   ],
   "source": [
    "arr.ndim"
   ]
  },
  {
   "cell_type": "markdown",
   "id": "396401e2-bad1-4a62-a377-548e0ec2d643",
   "metadata": {},
   "source": [
    "#### to generate random integer"
   ]
  },
  {
   "cell_type": "code",
   "execution_count": 36,
   "id": "74d70aeb-5564-4c10-b314-7fd8631eeb4f",
   "metadata": {},
   "outputs": [
    {
     "data": {
      "text/plain": [
       "array([[56, 39, 38, 95, 83],\n",
       "       [65, 18, 32, 81, 67],\n",
       "       [72, 82, 64, 43, 23],\n",
       "       [39, 32, 78, 69, 21],\n",
       "       [66, 35, 56, 64, 84]])"
      ]
     },
     "execution_count": 36,
     "metadata": {},
     "output_type": "execute_result"
    }
   ],
   "source": [
    "arr2 = np.random.randint(1,100,(5,5))\n",
    "arr2"
   ]
  },
  {
   "cell_type": "code",
   "execution_count": 37,
   "id": "cfb339b1-9a2f-44b4-9259-ba9b886131e3",
   "metadata": {},
   "outputs": [
    {
     "data": {
      "text/plain": [
       "(5, 5)"
      ]
     },
     "execution_count": 37,
     "metadata": {},
     "output_type": "execute_result"
    }
   ],
   "source": [
    "arr2.shape"
   ]
  },
  {
   "cell_type": "code",
   "execution_count": 38,
   "id": "2ebca4a4-3c10-468d-9944-4dc2047041bb",
   "metadata": {},
   "outputs": [
    {
     "data": {
      "text/plain": [
       "2"
      ]
     },
     "execution_count": 38,
     "metadata": {},
     "output_type": "execute_result"
    }
   ],
   "source": [
    "arr2.ndim"
   ]
  },
  {
   "cell_type": "markdown",
   "id": "f07cafaf-c425-4b58-9c40-b94e6cc2092e",
   "metadata": {},
   "source": [
    "#### to create a matrics or array with all values 0"
   ]
  },
  {
   "cell_type": "code",
   "execution_count": 53,
   "id": "c2d556a1-5a2e-424d-a368-f2225539e235",
   "metadata": {},
   "outputs": [
    {
     "data": {
      "text/plain": [
       "array([[0., 0., 0., 0., 0.],\n",
       "       [0., 0., 0., 0., 0.],\n",
       "       [0., 0., 0., 0., 0.],\n",
       "       [0., 0., 0., 0., 0.],\n",
       "       [0., 0., 0., 0., 0.]])"
      ]
     },
     "execution_count": 53,
     "metadata": {},
     "output_type": "execute_result"
    }
   ],
   "source": [
    "np.zeros((5,5))"
   ]
  },
  {
   "cell_type": "markdown",
   "id": "c3557516-89bd-4a84-8934-5f4326080411",
   "metadata": {},
   "source": [
    "#### to create a matrics or vector with all the values 1"
   ]
  },
  {
   "cell_type": "code",
   "execution_count": 57,
   "id": "b5d020c7-9c1b-45d0-90ae-75eba0eb0eb5",
   "metadata": {},
   "outputs": [
    {
     "data": {
      "text/plain": [
       "array([[1., 1., 1., 1., 1.],\n",
       "       [1., 1., 1., 1., 1.],\n",
       "       [1., 1., 1., 1., 1.],\n",
       "       [1., 1., 1., 1., 1.],\n",
       "       [1., 1., 1., 1., 1.]])"
      ]
     },
     "execution_count": 57,
     "metadata": {},
     "output_type": "execute_result"
    }
   ],
   "source": [
    "np.ones((5,5))"
   ]
  },
  {
   "cell_type": "markdown",
   "id": "a36ead40-2fb7-49f8-a010-64124817c6ab",
   "metadata": {},
   "source": [
    "#### to create a diagonal matrix or vector "
   ]
  },
  {
   "cell_type": "code",
   "execution_count": 62,
   "id": "fadceb05-21c3-4657-8639-1f90509b2016",
   "metadata": {},
   "outputs": [
    {
     "data": {
      "text/plain": [
       "array([[1., 0., 0., 0.],\n",
       "       [0., 1., 0., 0.],\n",
       "       [0., 0., 1., 0.],\n",
       "       [0., 0., 0., 1.]])"
      ]
     },
     "execution_count": 62,
     "metadata": {},
     "output_type": "execute_result"
    }
   ],
   "source": [
    "np.eye(4)"
   ]
  },
  {
   "cell_type": "markdown",
   "id": "2a3713a1-a5ea-4ab6-bb84-8973d5d7b456",
   "metadata": {},
   "source": [
    "#### to create a matrics with all vlaues the same number"
   ]
  },
  {
   "cell_type": "code",
   "execution_count": 69,
   "id": "8856541b-bccf-4e62-9b68-57e6aa8f70e9",
   "metadata": {},
   "outputs": [
    {
     "data": {
      "text/plain": [
       "array([[8, 8, 8, 8, 8],\n",
       "       [8, 8, 8, 8, 8],\n",
       "       [8, 8, 8, 8, 8],\n",
       "       [8, 8, 8, 8, 8]])"
      ]
     },
     "execution_count": 69,
     "metadata": {},
     "output_type": "execute_result"
    }
   ],
   "source": [
    "np.full((4,5),8)"
   ]
  },
  {
   "cell_type": "markdown",
   "id": "d5b8aeed-e2a2-4187-9c99-3b6271248e99",
   "metadata": {},
   "source": [
    "#### to generate numbers with fixed gap"
   ]
  },
  {
   "cell_type": "code",
   "execution_count": 6,
   "id": "59b1fe51-2d3a-4240-9f28-b3aeb6d391b1",
   "metadata": {
    "jp-MarkdownHeadingCollapsed": true
   },
   "outputs": [
    {
     "data": {
      "text/plain": [
       "array([ 2,  6, 10, 14, 18])"
      ]
     },
     "execution_count": 6,
     "metadata": {},
     "output_type": "execute_result"
    }
   ],
   "source": [
    "np.arange(2,20,4)"
   ]
  },
  {
   "cell_type": "markdown",
   "id": "4b272370-f81b-4be3-8b73-c27695032b42",
   "metadata": {},
   "source": [
    "#### to generate values wich are evenly spaced"
   ]
  },
  {
   "cell_type": "code",
   "execution_count": 76,
   "id": "1088d929-124f-4d97-8efa-c3b9d78609e6",
   "metadata": {},
   "outputs": [
    {
     "data": {
      "text/plain": [
       "array([ 2.,  8., 14., 20.])"
      ]
     },
     "execution_count": 76,
     "metadata": {},
     "output_type": "execute_result"
    }
   ],
   "source": [
    "np.linspace(2,20,4)"
   ]
  },
  {
   "cell_type": "markdown",
   "id": "e8a77346-4ce2-4e5c-aa77-23daa9df98e8",
   "metadata": {},
   "source": [
    "#### Numpy operations"
   ]
  },
  {
   "cell_type": "code",
   "execution_count": 37,
   "id": "f0edcadc-2f63-4c65-ac27-c5f4c99fbc0b",
   "metadata": {},
   "outputs": [],
   "source": [
    "np.random.seed(42)\n",
    "a = np.random.randint(0,20,(5,4))\n",
    "b = np.random.randint(0,20,(5,4))\n"
   ]
  },
  {
   "cell_type": "code",
   "execution_count": 45,
   "id": "1bf1d925-7400-484e-8f9a-2cb19a343545",
   "metadata": {},
   "outputs": [
    {
     "name": "stdout",
     "output_type": "stream",
     "text": [
      "[[ 6 19 14 10]\n",
      " [ 7  6 18 10]\n",
      " [10  3  7  2]\n",
      " [ 1 11  5  1]\n",
      " [ 0 11 11 16]]\n",
      "=============\n",
      "[[ 9 15 14 14]\n",
      " [18 11 19  2]\n",
      " [ 4 18  6  8]\n",
      " [ 6 17  3 13]\n",
      " [17  8  1 19]]\n"
     ]
    }
   ],
   "source": [
    "print(a)\n",
    "print(\"=============\")\n",
    "print(b)"
   ]
  },
  {
   "cell_type": "markdown",
   "id": "884f611c-fbbd-4372-b665-c5a815d80dfc",
   "metadata": {},
   "source": [
    "#### operations using operators"
   ]
  },
  {
   "cell_type": "code",
   "execution_count": 43,
   "id": "5d973d9e-a687-40fd-a9a8-d5cbfc8649ba",
   "metadata": {},
   "outputs": [
    {
     "name": "stdout",
     "output_type": "stream",
     "text": [
      "[[15 34 28 24]\n",
      " [25 17 37 12]\n",
      " [14 21 13 10]\n",
      " [ 7 28  8 14]\n",
      " [17 19 12 35]]\n",
      "[[ -3   4   0  -4]\n",
      " [-11  -5  -1   8]\n",
      " [  6 -15   1  -6]\n",
      " [ -5  -6   2 -12]\n",
      " [-17   3  10  -3]]\n",
      "[[ 54 285 196 140]\n",
      " [126  66 342  20]\n",
      " [ 40  54  42  16]\n",
      " [  6 187  15  13]\n",
      " [  0  88  11 304]]\n",
      "[[ 0.66666667  1.26666667  1.          0.71428571]\n",
      " [ 0.38888889  0.54545455  0.94736842  5.        ]\n",
      " [ 2.5         0.16666667  1.16666667  0.25      ]\n",
      " [ 0.16666667  0.64705882  1.66666667  0.07692308]\n",
      " [ 0.          1.375      11.          0.84210526]]\n"
     ]
    }
   ],
   "source": [
    "print(a+b)\n",
    "print(a-b)\n",
    "print(a*b)\n",
    "print(a/b)"
   ]
  },
  {
   "cell_type": "markdown",
   "id": "4a293167-ada7-4ed5-af7d-2d22eb771631",
   "metadata": {},
   "source": [
    "#### operations using atributes"
   ]
  },
  {
   "cell_type": "code",
   "execution_count": 57,
   "id": "a9ceb4f0-1b57-43fa-b935-cbcacbb9cb0f",
   "metadata": {},
   "outputs": [
    {
     "name": "stdout",
     "output_type": "stream",
     "text": [
      "[[15 34 28 24]\n",
      " [25 17 37 12]\n",
      " [14 21 13 10]\n",
      " [ 7 28  8 14]\n",
      " [17 19 12 35]]\n",
      "[[ -3   4   0  -4]\n",
      " [-11  -5  -1   8]\n",
      " [  6 -15   1  -6]\n",
      " [ -5  -6   2 -12]\n",
      " [-17   3  10  -3]]\n",
      "[[ 54 285 196 140]\n",
      " [126  66 342  20]\n",
      " [ 40  54  42  16]\n",
      " [  6 187  15  13]\n",
      " [  0  88  11 304]]\n",
      "[[ 0.66666667  1.26666667  1.          0.71428571]\n",
      " [ 0.38888889  0.54545455  0.94736842  5.        ]\n",
      " [ 2.5         0.16666667  1.16666667  0.25      ]\n",
      " [ 0.16666667  0.64705882  1.66666667  0.07692308]\n",
      " [ 0.          1.375      11.          0.84210526]]\n"
     ]
    }
   ],
   "source": [
    "print(np.add(a,b))\n",
    "print(np.subtract(a,b))\n",
    "print(np.multiply(a,b))\n",
    "print(np.divide(a,b))"
   ]
  },
  {
   "cell_type": "markdown",
   "id": "4fb6c313-eda6-45f9-8bdc-ed3a97865a24",
   "metadata": {},
   "source": [
    "#### Array transpose"
   ]
  },
  {
   "cell_type": "markdown",
   "id": "a6461d9a-2540-4002-abfc-cf61c2418a8e",
   "metadata": {},
   "source": [
    "#### using transpose method"
   ]
  },
  {
   "cell_type": "code",
   "execution_count": 60,
   "id": "6ec6c89e-fa25-4933-9c43-247bebb82e43",
   "metadata": {},
   "outputs": [
    {
     "name": "stdout",
     "output_type": "stream",
     "text": [
      "[[ 6  7 10  1  0]\n",
      " [19  6  3 11 11]\n",
      " [14 18  7  5 11]\n",
      " [10 10  2  1 16]]\n"
     ]
    }
   ],
   "source": [
    "trans = np.transpose(a)\n",
    "print(trans)"
   ]
  },
  {
   "cell_type": "code",
   "execution_count": 64,
   "id": "f79f79e9-4829-4e8e-9465-ec69b846af82",
   "metadata": {},
   "outputs": [
    {
     "name": "stdout",
     "output_type": "stream",
     "text": [
      "(5, 4)\n",
      "(4, 5)\n"
     ]
    }
   ],
   "source": [
    "print(a.shape)\n",
    "print(trans.shape)"
   ]
  },
  {
   "cell_type": "markdown",
   "id": "a57cb473-6d27-48ff-a389-52470ca59576",
   "metadata": {},
   "source": [
    "#### using .T atribute"
   ]
  },
  {
   "cell_type": "code",
   "execution_count": 68,
   "id": "02eae187-1bbb-44c4-854b-3abab0d12365",
   "metadata": {},
   "outputs": [
    {
     "name": "stdout",
     "output_type": "stream",
     "text": [
      "[[ 6  7 10  1  0]\n",
      " [19  6  3 11 11]\n",
      " [14 18  7  5 11]\n",
      " [10 10  2  1 16]]\n"
     ]
    }
   ],
   "source": [
    "trans2 = a.T\n",
    "print(trans2)\n"
   ]
  },
  {
   "cell_type": "code",
   "execution_count": 70,
   "id": "0a362013-274d-49d2-8e16-9db0cadecf63",
   "metadata": {},
   "outputs": [
    {
     "data": {
      "text/plain": [
       "(4, 5)"
      ]
     },
     "execution_count": 70,
     "metadata": {},
     "output_type": "execute_result"
    }
   ],
   "source": [
    "trans2.shape"
   ]
  },
  {
   "cell_type": "markdown",
   "id": "5b029769-8920-4c37-aa23-7dcfd7d6a9c2",
   "metadata": {},
   "source": [
    "#### Array reshaping"
   ]
  },
  {
   "cell_type": "code",
   "execution_count": 77,
   "id": "fdeefb1f-c346-4b93-9f18-33eae4f10065",
   "metadata": {},
   "outputs": [
    {
     "data": {
      "text/plain": [
       "array([[ 6, 19],\n",
       "       [14, 10],\n",
       "       [ 7,  6],\n",
       "       [18, 10],\n",
       "       [10,  3],\n",
       "       [ 7,  2],\n",
       "       [ 1, 11],\n",
       "       [ 5,  1],\n",
       "       [ 0, 11],\n",
       "       [11, 16]])"
      ]
     },
     "execution_count": 77,
     "metadata": {},
     "output_type": "execute_result"
    }
   ],
   "source": [
    "areshaped = a.reshape(10,2)\n",
    "areshaped"
   ]
  },
  {
   "cell_type": "code",
   "execution_count": 79,
   "id": "b318e159-0a14-4039-804d-a35f3cf21952",
   "metadata": {},
   "outputs": [
    {
     "data": {
      "text/plain": [
       "(10, 2)"
      ]
     },
     "execution_count": 79,
     "metadata": {},
     "output_type": "execute_result"
    }
   ],
   "source": [
    "areshaped.shape"
   ]
  },
  {
   "cell_type": "code",
   "execution_count": 85,
   "id": "b82b34ac-9c3a-4994-9131-522292178aa2",
   "metadata": {},
   "outputs": [],
   "source": [
    "df = pd.read_csv(\"creditcard.csv\")"
   ]
  },
  {
   "cell_type": "code",
   "execution_count": 86,
   "id": "77dd4c97-2a9e-41de-9ca6-12b3a335d313",
   "metadata": {},
   "outputs": [
    {
     "data": {
      "text/html": [
       "<div>\n",
       "<style scoped>\n",
       "    .dataframe tbody tr th:only-of-type {\n",
       "        vertical-align: middle;\n",
       "    }\n",
       "\n",
       "    .dataframe tbody tr th {\n",
       "        vertical-align: top;\n",
       "    }\n",
       "\n",
       "    .dataframe thead th {\n",
       "        text-align: right;\n",
       "    }\n",
       "</style>\n",
       "<table border=\"1\" class=\"dataframe\">\n",
       "  <thead>\n",
       "    <tr style=\"text-align: right;\">\n",
       "      <th></th>\n",
       "      <th>Time</th>\n",
       "      <th>V1</th>\n",
       "      <th>V2</th>\n",
       "      <th>V3</th>\n",
       "      <th>V4</th>\n",
       "      <th>V5</th>\n",
       "      <th>V6</th>\n",
       "      <th>V7</th>\n",
       "      <th>V8</th>\n",
       "      <th>V9</th>\n",
       "      <th>...</th>\n",
       "      <th>V21</th>\n",
       "      <th>V22</th>\n",
       "      <th>V23</th>\n",
       "      <th>V24</th>\n",
       "      <th>V25</th>\n",
       "      <th>V26</th>\n",
       "      <th>V27</th>\n",
       "      <th>V28</th>\n",
       "      <th>Amount</th>\n",
       "      <th>Class</th>\n",
       "    </tr>\n",
       "  </thead>\n",
       "  <tbody>\n",
       "    <tr>\n",
       "      <th>0</th>\n",
       "      <td>0.0</td>\n",
       "      <td>-1.359807</td>\n",
       "      <td>-0.072781</td>\n",
       "      <td>2.536347</td>\n",
       "      <td>1.378155</td>\n",
       "      <td>-0.338321</td>\n",
       "      <td>0.462388</td>\n",
       "      <td>0.239599</td>\n",
       "      <td>0.098698</td>\n",
       "      <td>0.363787</td>\n",
       "      <td>...</td>\n",
       "      <td>-0.018307</td>\n",
       "      <td>0.277838</td>\n",
       "      <td>-0.110474</td>\n",
       "      <td>0.066928</td>\n",
       "      <td>0.128539</td>\n",
       "      <td>-0.189115</td>\n",
       "      <td>0.133558</td>\n",
       "      <td>-0.021053</td>\n",
       "      <td>149.62</td>\n",
       "      <td>0</td>\n",
       "    </tr>\n",
       "    <tr>\n",
       "      <th>1</th>\n",
       "      <td>0.0</td>\n",
       "      <td>1.191857</td>\n",
       "      <td>0.266151</td>\n",
       "      <td>0.166480</td>\n",
       "      <td>0.448154</td>\n",
       "      <td>0.060018</td>\n",
       "      <td>-0.082361</td>\n",
       "      <td>-0.078803</td>\n",
       "      <td>0.085102</td>\n",
       "      <td>-0.255425</td>\n",
       "      <td>...</td>\n",
       "      <td>-0.225775</td>\n",
       "      <td>-0.638672</td>\n",
       "      <td>0.101288</td>\n",
       "      <td>-0.339846</td>\n",
       "      <td>0.167170</td>\n",
       "      <td>0.125895</td>\n",
       "      <td>-0.008983</td>\n",
       "      <td>0.014724</td>\n",
       "      <td>2.69</td>\n",
       "      <td>0</td>\n",
       "    </tr>\n",
       "    <tr>\n",
       "      <th>2</th>\n",
       "      <td>1.0</td>\n",
       "      <td>-1.358354</td>\n",
       "      <td>-1.340163</td>\n",
       "      <td>1.773209</td>\n",
       "      <td>0.379780</td>\n",
       "      <td>-0.503198</td>\n",
       "      <td>1.800499</td>\n",
       "      <td>0.791461</td>\n",
       "      <td>0.247676</td>\n",
       "      <td>-1.514654</td>\n",
       "      <td>...</td>\n",
       "      <td>0.247998</td>\n",
       "      <td>0.771679</td>\n",
       "      <td>0.909412</td>\n",
       "      <td>-0.689281</td>\n",
       "      <td>-0.327642</td>\n",
       "      <td>-0.139097</td>\n",
       "      <td>-0.055353</td>\n",
       "      <td>-0.059752</td>\n",
       "      <td>378.66</td>\n",
       "      <td>0</td>\n",
       "    </tr>\n",
       "    <tr>\n",
       "      <th>3</th>\n",
       "      <td>1.0</td>\n",
       "      <td>-0.966272</td>\n",
       "      <td>-0.185226</td>\n",
       "      <td>1.792993</td>\n",
       "      <td>-0.863291</td>\n",
       "      <td>-0.010309</td>\n",
       "      <td>1.247203</td>\n",
       "      <td>0.237609</td>\n",
       "      <td>0.377436</td>\n",
       "      <td>-1.387024</td>\n",
       "      <td>...</td>\n",
       "      <td>-0.108300</td>\n",
       "      <td>0.005274</td>\n",
       "      <td>-0.190321</td>\n",
       "      <td>-1.175575</td>\n",
       "      <td>0.647376</td>\n",
       "      <td>-0.221929</td>\n",
       "      <td>0.062723</td>\n",
       "      <td>0.061458</td>\n",
       "      <td>123.50</td>\n",
       "      <td>0</td>\n",
       "    </tr>\n",
       "    <tr>\n",
       "      <th>4</th>\n",
       "      <td>2.0</td>\n",
       "      <td>-1.158233</td>\n",
       "      <td>0.877737</td>\n",
       "      <td>1.548718</td>\n",
       "      <td>0.403034</td>\n",
       "      <td>-0.407193</td>\n",
       "      <td>0.095921</td>\n",
       "      <td>0.592941</td>\n",
       "      <td>-0.270533</td>\n",
       "      <td>0.817739</td>\n",
       "      <td>...</td>\n",
       "      <td>-0.009431</td>\n",
       "      <td>0.798278</td>\n",
       "      <td>-0.137458</td>\n",
       "      <td>0.141267</td>\n",
       "      <td>-0.206010</td>\n",
       "      <td>0.502292</td>\n",
       "      <td>0.219422</td>\n",
       "      <td>0.215153</td>\n",
       "      <td>69.99</td>\n",
       "      <td>0</td>\n",
       "    </tr>\n",
       "  </tbody>\n",
       "</table>\n",
       "<p>5 rows × 31 columns</p>\n",
       "</div>"
      ],
      "text/plain": [
       "   Time        V1        V2        V3        V4        V5        V6        V7  \\\n",
       "0   0.0 -1.359807 -0.072781  2.536347  1.378155 -0.338321  0.462388  0.239599   \n",
       "1   0.0  1.191857  0.266151  0.166480  0.448154  0.060018 -0.082361 -0.078803   \n",
       "2   1.0 -1.358354 -1.340163  1.773209  0.379780 -0.503198  1.800499  0.791461   \n",
       "3   1.0 -0.966272 -0.185226  1.792993 -0.863291 -0.010309  1.247203  0.237609   \n",
       "4   2.0 -1.158233  0.877737  1.548718  0.403034 -0.407193  0.095921  0.592941   \n",
       "\n",
       "         V8        V9  ...       V21       V22       V23       V24       V25  \\\n",
       "0  0.098698  0.363787  ... -0.018307  0.277838 -0.110474  0.066928  0.128539   \n",
       "1  0.085102 -0.255425  ... -0.225775 -0.638672  0.101288 -0.339846  0.167170   \n",
       "2  0.247676 -1.514654  ...  0.247998  0.771679  0.909412 -0.689281 -0.327642   \n",
       "3  0.377436 -1.387024  ... -0.108300  0.005274 -0.190321 -1.175575  0.647376   \n",
       "4 -0.270533  0.817739  ... -0.009431  0.798278 -0.137458  0.141267 -0.206010   \n",
       "\n",
       "        V26       V27       V28  Amount  Class  \n",
       "0 -0.189115  0.133558 -0.021053  149.62      0  \n",
       "1  0.125895 -0.008983  0.014724    2.69      0  \n",
       "2 -0.139097 -0.055353 -0.059752  378.66      0  \n",
       "3 -0.221929  0.062723  0.061458  123.50      0  \n",
       "4  0.502292  0.219422  0.215153   69.99      0  \n",
       "\n",
       "[5 rows x 31 columns]"
      ]
     },
     "execution_count": 86,
     "metadata": {},
     "output_type": "execute_result"
    }
   ],
   "source": [
    "df.head()"
   ]
  },
  {
   "cell_type": "markdown",
   "id": "da0f10f4-2258-4b91-b721-12bc3df60083",
   "metadata": {},
   "source": [
    "#### to create a sample from the dataframe randomly"
   ]
  },
  {
   "cell_type": "code",
   "execution_count": 100,
   "id": "afbcfd12-e71d-4d94-ad38-13a45e8e5cc9",
   "metadata": {},
   "outputs": [
    {
     "data": {
      "text/html": [
       "<div>\n",
       "<style scoped>\n",
       "    .dataframe tbody tr th:only-of-type {\n",
       "        vertical-align: middle;\n",
       "    }\n",
       "\n",
       "    .dataframe tbody tr th {\n",
       "        vertical-align: top;\n",
       "    }\n",
       "\n",
       "    .dataframe thead th {\n",
       "        text-align: right;\n",
       "    }\n",
       "</style>\n",
       "<table border=\"1\" class=\"dataframe\">\n",
       "  <thead>\n",
       "    <tr style=\"text-align: right;\">\n",
       "      <th></th>\n",
       "      <th>0</th>\n",
       "      <th>1</th>\n",
       "      <th>2</th>\n",
       "      <th>3</th>\n",
       "      <th>4</th>\n",
       "      <th>5</th>\n",
       "      <th>6</th>\n",
       "      <th>7</th>\n",
       "      <th>8</th>\n",
       "      <th>9</th>\n",
       "    </tr>\n",
       "  </thead>\n",
       "  <tbody>\n",
       "    <tr>\n",
       "      <th>0</th>\n",
       "      <td>0.374540</td>\n",
       "      <td>0.950714</td>\n",
       "      <td>0.731994</td>\n",
       "      <td>0.598658</td>\n",
       "      <td>0.156019</td>\n",
       "      <td>0.155995</td>\n",
       "      <td>0.058084</td>\n",
       "      <td>0.866176</td>\n",
       "      <td>0.601115</td>\n",
       "      <td>0.708073</td>\n",
       "    </tr>\n",
       "    <tr>\n",
       "      <th>1</th>\n",
       "      <td>0.020584</td>\n",
       "      <td>0.969910</td>\n",
       "      <td>0.832443</td>\n",
       "      <td>0.212339</td>\n",
       "      <td>0.181825</td>\n",
       "      <td>0.183405</td>\n",
       "      <td>0.304242</td>\n",
       "      <td>0.524756</td>\n",
       "      <td>0.431945</td>\n",
       "      <td>0.291229</td>\n",
       "    </tr>\n",
       "    <tr>\n",
       "      <th>2</th>\n",
       "      <td>0.611853</td>\n",
       "      <td>0.139494</td>\n",
       "      <td>0.292145</td>\n",
       "      <td>0.366362</td>\n",
       "      <td>0.456070</td>\n",
       "      <td>0.785176</td>\n",
       "      <td>0.199674</td>\n",
       "      <td>0.514234</td>\n",
       "      <td>0.592415</td>\n",
       "      <td>0.046450</td>\n",
       "    </tr>\n",
       "    <tr>\n",
       "      <th>3</th>\n",
       "      <td>0.607545</td>\n",
       "      <td>0.170524</td>\n",
       "      <td>0.065052</td>\n",
       "      <td>0.948886</td>\n",
       "      <td>0.965632</td>\n",
       "      <td>0.808397</td>\n",
       "      <td>0.304614</td>\n",
       "      <td>0.097672</td>\n",
       "      <td>0.684233</td>\n",
       "      <td>0.440152</td>\n",
       "    </tr>\n",
       "    <tr>\n",
       "      <th>4</th>\n",
       "      <td>0.122038</td>\n",
       "      <td>0.495177</td>\n",
       "      <td>0.034389</td>\n",
       "      <td>0.909320</td>\n",
       "      <td>0.258780</td>\n",
       "      <td>0.662522</td>\n",
       "      <td>0.311711</td>\n",
       "      <td>0.520068</td>\n",
       "      <td>0.546710</td>\n",
       "      <td>0.184854</td>\n",
       "    </tr>\n",
       "    <tr>\n",
       "      <th>5</th>\n",
       "      <td>0.969585</td>\n",
       "      <td>0.775133</td>\n",
       "      <td>0.939499</td>\n",
       "      <td>0.894827</td>\n",
       "      <td>0.597900</td>\n",
       "      <td>0.921874</td>\n",
       "      <td>0.088493</td>\n",
       "      <td>0.195983</td>\n",
       "      <td>0.045227</td>\n",
       "      <td>0.325330</td>\n",
       "    </tr>\n",
       "    <tr>\n",
       "      <th>6</th>\n",
       "      <td>0.388677</td>\n",
       "      <td>0.271349</td>\n",
       "      <td>0.828738</td>\n",
       "      <td>0.356753</td>\n",
       "      <td>0.280935</td>\n",
       "      <td>0.542696</td>\n",
       "      <td>0.140924</td>\n",
       "      <td>0.802197</td>\n",
       "      <td>0.074551</td>\n",
       "      <td>0.986887</td>\n",
       "    </tr>\n",
       "    <tr>\n",
       "      <th>7</th>\n",
       "      <td>0.772245</td>\n",
       "      <td>0.198716</td>\n",
       "      <td>0.005522</td>\n",
       "      <td>0.815461</td>\n",
       "      <td>0.706857</td>\n",
       "      <td>0.729007</td>\n",
       "      <td>0.771270</td>\n",
       "      <td>0.074045</td>\n",
       "      <td>0.358466</td>\n",
       "      <td>0.115869</td>\n",
       "    </tr>\n",
       "    <tr>\n",
       "      <th>8</th>\n",
       "      <td>0.863103</td>\n",
       "      <td>0.623298</td>\n",
       "      <td>0.330898</td>\n",
       "      <td>0.063558</td>\n",
       "      <td>0.310982</td>\n",
       "      <td>0.325183</td>\n",
       "      <td>0.729606</td>\n",
       "      <td>0.637557</td>\n",
       "      <td>0.887213</td>\n",
       "      <td>0.472215</td>\n",
       "    </tr>\n",
       "    <tr>\n",
       "      <th>9</th>\n",
       "      <td>0.119594</td>\n",
       "      <td>0.713245</td>\n",
       "      <td>0.760785</td>\n",
       "      <td>0.561277</td>\n",
       "      <td>0.770967</td>\n",
       "      <td>0.493796</td>\n",
       "      <td>0.522733</td>\n",
       "      <td>0.427541</td>\n",
       "      <td>0.025419</td>\n",
       "      <td>0.107891</td>\n",
       "    </tr>\n",
       "    <tr>\n",
       "      <th>10</th>\n",
       "      <td>0.031429</td>\n",
       "      <td>0.636410</td>\n",
       "      <td>0.314356</td>\n",
       "      <td>0.508571</td>\n",
       "      <td>0.907566</td>\n",
       "      <td>0.249292</td>\n",
       "      <td>0.410383</td>\n",
       "      <td>0.755551</td>\n",
       "      <td>0.228798</td>\n",
       "      <td>0.076980</td>\n",
       "    </tr>\n",
       "    <tr>\n",
       "      <th>11</th>\n",
       "      <td>0.289751</td>\n",
       "      <td>0.161221</td>\n",
       "      <td>0.929698</td>\n",
       "      <td>0.808120</td>\n",
       "      <td>0.633404</td>\n",
       "      <td>0.871461</td>\n",
       "      <td>0.803672</td>\n",
       "      <td>0.186570</td>\n",
       "      <td>0.892559</td>\n",
       "      <td>0.539342</td>\n",
       "    </tr>\n",
       "    <tr>\n",
       "      <th>12</th>\n",
       "      <td>0.807440</td>\n",
       "      <td>0.896091</td>\n",
       "      <td>0.318003</td>\n",
       "      <td>0.110052</td>\n",
       "      <td>0.227935</td>\n",
       "      <td>0.427108</td>\n",
       "      <td>0.818015</td>\n",
       "      <td>0.860731</td>\n",
       "      <td>0.006952</td>\n",
       "      <td>0.510747</td>\n",
       "    </tr>\n",
       "    <tr>\n",
       "      <th>13</th>\n",
       "      <td>0.417411</td>\n",
       "      <td>0.222108</td>\n",
       "      <td>0.119865</td>\n",
       "      <td>0.337615</td>\n",
       "      <td>0.942910</td>\n",
       "      <td>0.323203</td>\n",
       "      <td>0.518791</td>\n",
       "      <td>0.703019</td>\n",
       "      <td>0.363630</td>\n",
       "      <td>0.971782</td>\n",
       "    </tr>\n",
       "    <tr>\n",
       "      <th>14</th>\n",
       "      <td>0.962447</td>\n",
       "      <td>0.251782</td>\n",
       "      <td>0.497249</td>\n",
       "      <td>0.300878</td>\n",
       "      <td>0.284840</td>\n",
       "      <td>0.036887</td>\n",
       "      <td>0.609564</td>\n",
       "      <td>0.502679</td>\n",
       "      <td>0.051479</td>\n",
       "      <td>0.278646</td>\n",
       "    </tr>\n",
       "    <tr>\n",
       "      <th>15</th>\n",
       "      <td>0.908266</td>\n",
       "      <td>0.239562</td>\n",
       "      <td>0.144895</td>\n",
       "      <td>0.489453</td>\n",
       "      <td>0.985650</td>\n",
       "      <td>0.242055</td>\n",
       "      <td>0.672136</td>\n",
       "      <td>0.761620</td>\n",
       "      <td>0.237638</td>\n",
       "      <td>0.728216</td>\n",
       "    </tr>\n",
       "    <tr>\n",
       "      <th>16</th>\n",
       "      <td>0.367783</td>\n",
       "      <td>0.632306</td>\n",
       "      <td>0.633530</td>\n",
       "      <td>0.535775</td>\n",
       "      <td>0.090290</td>\n",
       "      <td>0.835302</td>\n",
       "      <td>0.320780</td>\n",
       "      <td>0.186519</td>\n",
       "      <td>0.040775</td>\n",
       "      <td>0.590893</td>\n",
       "    </tr>\n",
       "    <tr>\n",
       "      <th>17</th>\n",
       "      <td>0.677564</td>\n",
       "      <td>0.016588</td>\n",
       "      <td>0.512093</td>\n",
       "      <td>0.226496</td>\n",
       "      <td>0.645173</td>\n",
       "      <td>0.174366</td>\n",
       "      <td>0.690938</td>\n",
       "      <td>0.386735</td>\n",
       "      <td>0.936730</td>\n",
       "      <td>0.137521</td>\n",
       "    </tr>\n",
       "    <tr>\n",
       "      <th>18</th>\n",
       "      <td>0.341066</td>\n",
       "      <td>0.113474</td>\n",
       "      <td>0.924694</td>\n",
       "      <td>0.877339</td>\n",
       "      <td>0.257942</td>\n",
       "      <td>0.659984</td>\n",
       "      <td>0.817222</td>\n",
       "      <td>0.555201</td>\n",
       "      <td>0.529651</td>\n",
       "      <td>0.241852</td>\n",
       "    </tr>\n",
       "    <tr>\n",
       "      <th>19</th>\n",
       "      <td>0.093103</td>\n",
       "      <td>0.897216</td>\n",
       "      <td>0.900418</td>\n",
       "      <td>0.633101</td>\n",
       "      <td>0.339030</td>\n",
       "      <td>0.349210</td>\n",
       "      <td>0.725956</td>\n",
       "      <td>0.897110</td>\n",
       "      <td>0.887086</td>\n",
       "      <td>0.779876</td>\n",
       "    </tr>\n",
       "  </tbody>\n",
       "</table>\n",
       "</div>"
      ],
      "text/plain": [
       "           0         1         2         3         4         5         6  \\\n",
       "0   0.374540  0.950714  0.731994  0.598658  0.156019  0.155995  0.058084   \n",
       "1   0.020584  0.969910  0.832443  0.212339  0.181825  0.183405  0.304242   \n",
       "2   0.611853  0.139494  0.292145  0.366362  0.456070  0.785176  0.199674   \n",
       "3   0.607545  0.170524  0.065052  0.948886  0.965632  0.808397  0.304614   \n",
       "4   0.122038  0.495177  0.034389  0.909320  0.258780  0.662522  0.311711   \n",
       "5   0.969585  0.775133  0.939499  0.894827  0.597900  0.921874  0.088493   \n",
       "6   0.388677  0.271349  0.828738  0.356753  0.280935  0.542696  0.140924   \n",
       "7   0.772245  0.198716  0.005522  0.815461  0.706857  0.729007  0.771270   \n",
       "8   0.863103  0.623298  0.330898  0.063558  0.310982  0.325183  0.729606   \n",
       "9   0.119594  0.713245  0.760785  0.561277  0.770967  0.493796  0.522733   \n",
       "10  0.031429  0.636410  0.314356  0.508571  0.907566  0.249292  0.410383   \n",
       "11  0.289751  0.161221  0.929698  0.808120  0.633404  0.871461  0.803672   \n",
       "12  0.807440  0.896091  0.318003  0.110052  0.227935  0.427108  0.818015   \n",
       "13  0.417411  0.222108  0.119865  0.337615  0.942910  0.323203  0.518791   \n",
       "14  0.962447  0.251782  0.497249  0.300878  0.284840  0.036887  0.609564   \n",
       "15  0.908266  0.239562  0.144895  0.489453  0.985650  0.242055  0.672136   \n",
       "16  0.367783  0.632306  0.633530  0.535775  0.090290  0.835302  0.320780   \n",
       "17  0.677564  0.016588  0.512093  0.226496  0.645173  0.174366  0.690938   \n",
       "18  0.341066  0.113474  0.924694  0.877339  0.257942  0.659984  0.817222   \n",
       "19  0.093103  0.897216  0.900418  0.633101  0.339030  0.349210  0.725956   \n",
       "\n",
       "           7         8         9  \n",
       "0   0.866176  0.601115  0.708073  \n",
       "1   0.524756  0.431945  0.291229  \n",
       "2   0.514234  0.592415  0.046450  \n",
       "3   0.097672  0.684233  0.440152  \n",
       "4   0.520068  0.546710  0.184854  \n",
       "5   0.195983  0.045227  0.325330  \n",
       "6   0.802197  0.074551  0.986887  \n",
       "7   0.074045  0.358466  0.115869  \n",
       "8   0.637557  0.887213  0.472215  \n",
       "9   0.427541  0.025419  0.107891  \n",
       "10  0.755551  0.228798  0.076980  \n",
       "11  0.186570  0.892559  0.539342  \n",
       "12  0.860731  0.006952  0.510747  \n",
       "13  0.703019  0.363630  0.971782  \n",
       "14  0.502679  0.051479  0.278646  \n",
       "15  0.761620  0.237638  0.728216  \n",
       "16  0.186519  0.040775  0.590893  \n",
       "17  0.386735  0.936730  0.137521  \n",
       "18  0.555201  0.529651  0.241852  \n",
       "19  0.897110  0.887086  0.779876  "
      ]
     },
     "execution_count": 100,
     "metadata": {},
     "output_type": "execute_result"
    }
   ],
   "source": [
    "np.random.seed(42) ## prvent from generating random values every time we run the code\n",
    "rand_df = pd.DataFrame(np.random.rand(20,10))\n",
    "rand_df"
   ]
  },
  {
   "cell_type": "code",
   "execution_count": null,
   "id": "c999cf56-2c30-49ee-a734-4b2f1c055540",
   "metadata": {},
   "outputs": [],
   "source": []
  }
 ],
 "metadata": {
  "kernelspec": {
   "display_name": "Python [conda env:base] *",
   "language": "python",
   "name": "conda-base-py"
  },
  "language_info": {
   "codemirror_mode": {
    "name": "ipython",
    "version": 3
   },
   "file_extension": ".py",
   "mimetype": "text/x-python",
   "name": "python",
   "nbconvert_exporter": "python",
   "pygments_lexer": "ipython3",
   "version": "3.12.7"
  }
 },
 "nbformat": 4,
 "nbformat_minor": 5
}
