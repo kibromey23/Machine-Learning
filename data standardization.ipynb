{
 "cells": [
  {
   "cell_type": "markdown",
   "id": "52dc5268-576c-4d7a-9566-654550842c5d",
   "metadata": {},
   "source": [
    "##  Data Standardization is the process of transforming features so that they have: Mean = 0 ,Standard Deviation = 1\n",
    "### 🔍 Why Use Standardization?\n",
    "#### -Ensures all features are on the same scale.\n",
    "#### -Helps algorithms that rely on distance (like KNN, SVM, logistic regression).\n",
    "#### -Improves training stability and speed in gradient-based models (like neural networks)."
   ]
  },
  {
   "cell_type": "code",
   "execution_count": 51,
   "id": "cbdf04cd-15b9-4aac-b30e-a16df706650f",
   "metadata": {},
   "outputs": [],
   "source": [
    "import pandas as pd\n",
    "import numpy as np\n",
    "from sklearn.preprocessing import StandardScaler\n",
    "from sklearn.model_selection import train_test_split\n",
    "from sklearn.preprocessing import LabelEncoder"
   ]
  },
  {
   "cell_type": "code",
   "execution_count": 59,
   "id": "384bb610-622a-4034-bca2-d9554d378c02",
   "metadata": {},
   "outputs": [],
   "source": [
    "scaler = StandardScaler()\n",
    "le =LabelEncoder()"
   ]
  },
  {
   "cell_type": "code",
   "execution_count": 61,
   "id": "307524c7-5a1d-4f88-bb18-88158d224ba5",
   "metadata": {},
   "outputs": [],
   "source": [
    "df = pd.read_csv('iris.csv')"
   ]
  },
  {
   "cell_type": "code",
   "execution_count": 63,
   "id": "d18075fb-3c79-4627-8ed6-6574190b6a3f",
   "metadata": {},
   "outputs": [
    {
     "data": {
      "text/html": [
       "<div>\n",
       "<style scoped>\n",
       "    .dataframe tbody tr th:only-of-type {\n",
       "        vertical-align: middle;\n",
       "    }\n",
       "\n",
       "    .dataframe tbody tr th {\n",
       "        vertical-align: top;\n",
       "    }\n",
       "\n",
       "    .dataframe thead th {\n",
       "        text-align: right;\n",
       "    }\n",
       "</style>\n",
       "<table border=\"1\" class=\"dataframe\">\n",
       "  <thead>\n",
       "    <tr style=\"text-align: right;\">\n",
       "      <th></th>\n",
       "      <th>Id</th>\n",
       "      <th>SepalLengthCm</th>\n",
       "      <th>SepalWidthCm</th>\n",
       "      <th>PetalLengthCm</th>\n",
       "      <th>PetalWidthCm</th>\n",
       "      <th>Species</th>\n",
       "    </tr>\n",
       "  </thead>\n",
       "  <tbody>\n",
       "    <tr>\n",
       "      <th>0</th>\n",
       "      <td>1</td>\n",
       "      <td>5.1</td>\n",
       "      <td>3.5</td>\n",
       "      <td>1.4</td>\n",
       "      <td>0.2</td>\n",
       "      <td>Iris-setosa</td>\n",
       "    </tr>\n",
       "    <tr>\n",
       "      <th>1</th>\n",
       "      <td>2</td>\n",
       "      <td>4.9</td>\n",
       "      <td>3.0</td>\n",
       "      <td>1.4</td>\n",
       "      <td>0.2</td>\n",
       "      <td>Iris-setosa</td>\n",
       "    </tr>\n",
       "    <tr>\n",
       "      <th>2</th>\n",
       "      <td>3</td>\n",
       "      <td>4.7</td>\n",
       "      <td>3.2</td>\n",
       "      <td>1.3</td>\n",
       "      <td>0.2</td>\n",
       "      <td>Iris-setosa</td>\n",
       "    </tr>\n",
       "    <tr>\n",
       "      <th>3</th>\n",
       "      <td>4</td>\n",
       "      <td>4.6</td>\n",
       "      <td>3.1</td>\n",
       "      <td>1.5</td>\n",
       "      <td>0.2</td>\n",
       "      <td>Iris-setosa</td>\n",
       "    </tr>\n",
       "    <tr>\n",
       "      <th>4</th>\n",
       "      <td>5</td>\n",
       "      <td>5.0</td>\n",
       "      <td>3.6</td>\n",
       "      <td>1.4</td>\n",
       "      <td>0.2</td>\n",
       "      <td>Iris-setosa</td>\n",
       "    </tr>\n",
       "  </tbody>\n",
       "</table>\n",
       "</div>"
      ],
      "text/plain": [
       "   Id  SepalLengthCm  SepalWidthCm  PetalLengthCm  PetalWidthCm      Species\n",
       "0   1            5.1           3.5            1.4           0.2  Iris-setosa\n",
       "1   2            4.9           3.0            1.4           0.2  Iris-setosa\n",
       "2   3            4.7           3.2            1.3           0.2  Iris-setosa\n",
       "3   4            4.6           3.1            1.5           0.2  Iris-setosa\n",
       "4   5            5.0           3.6            1.4           0.2  Iris-setosa"
      ]
     },
     "execution_count": 63,
     "metadata": {},
     "output_type": "execute_result"
    }
   ],
   "source": [
    "df.head()"
   ]
  },
  {
   "cell_type": "code",
   "execution_count": 67,
   "id": "a4e635ce-6210-4b51-a2c0-860243686544",
   "metadata": {},
   "outputs": [],
   "source": [
    "df['encoded'] = le.fit_transform(df['Species'])"
   ]
  },
  {
   "cell_type": "code",
   "execution_count": 71,
   "id": "cbacf316-5ccb-490f-9e20-a6d3da13ec67",
   "metadata": {},
   "outputs": [],
   "source": [
    "df.drop('Species',axis=1,inplace=True)"
   ]
  },
  {
   "cell_type": "code",
   "execution_count": 73,
   "id": "b25a5d72-091c-4daa-978b-e1cbafbdde6e",
   "metadata": {},
   "outputs": [
    {
     "data": {
      "text/html": [
       "<div>\n",
       "<style scoped>\n",
       "    .dataframe tbody tr th:only-of-type {\n",
       "        vertical-align: middle;\n",
       "    }\n",
       "\n",
       "    .dataframe tbody tr th {\n",
       "        vertical-align: top;\n",
       "    }\n",
       "\n",
       "    .dataframe thead th {\n",
       "        text-align: right;\n",
       "    }\n",
       "</style>\n",
       "<table border=\"1\" class=\"dataframe\">\n",
       "  <thead>\n",
       "    <tr style=\"text-align: right;\">\n",
       "      <th></th>\n",
       "      <th>Id</th>\n",
       "      <th>SepalLengthCm</th>\n",
       "      <th>SepalWidthCm</th>\n",
       "      <th>PetalLengthCm</th>\n",
       "      <th>PetalWidthCm</th>\n",
       "      <th>encoded</th>\n",
       "    </tr>\n",
       "  </thead>\n",
       "  <tbody>\n",
       "    <tr>\n",
       "      <th>0</th>\n",
       "      <td>1</td>\n",
       "      <td>5.1</td>\n",
       "      <td>3.5</td>\n",
       "      <td>1.4</td>\n",
       "      <td>0.2</td>\n",
       "      <td>0</td>\n",
       "    </tr>\n",
       "    <tr>\n",
       "      <th>1</th>\n",
       "      <td>2</td>\n",
       "      <td>4.9</td>\n",
       "      <td>3.0</td>\n",
       "      <td>1.4</td>\n",
       "      <td>0.2</td>\n",
       "      <td>0</td>\n",
       "    </tr>\n",
       "    <tr>\n",
       "      <th>2</th>\n",
       "      <td>3</td>\n",
       "      <td>4.7</td>\n",
       "      <td>3.2</td>\n",
       "      <td>1.3</td>\n",
       "      <td>0.2</td>\n",
       "      <td>0</td>\n",
       "    </tr>\n",
       "    <tr>\n",
       "      <th>3</th>\n",
       "      <td>4</td>\n",
       "      <td>4.6</td>\n",
       "      <td>3.1</td>\n",
       "      <td>1.5</td>\n",
       "      <td>0.2</td>\n",
       "      <td>0</td>\n",
       "    </tr>\n",
       "    <tr>\n",
       "      <th>4</th>\n",
       "      <td>5</td>\n",
       "      <td>5.0</td>\n",
       "      <td>3.6</td>\n",
       "      <td>1.4</td>\n",
       "      <td>0.2</td>\n",
       "      <td>0</td>\n",
       "    </tr>\n",
       "  </tbody>\n",
       "</table>\n",
       "</div>"
      ],
      "text/plain": [
       "   Id  SepalLengthCm  SepalWidthCm  PetalLengthCm  PetalWidthCm  encoded\n",
       "0   1            5.1           3.5            1.4           0.2        0\n",
       "1   2            4.9           3.0            1.4           0.2        0\n",
       "2   3            4.7           3.2            1.3           0.2        0\n",
       "3   4            4.6           3.1            1.5           0.2        0\n",
       "4   5            5.0           3.6            1.4           0.2        0"
      ]
     },
     "execution_count": 73,
     "metadata": {},
     "output_type": "execute_result"
    }
   ],
   "source": [
    "df.head()"
   ]
  },
  {
   "cell_type": "code",
   "execution_count": 75,
   "id": "1f89c309-054d-4758-9df0-cf1bad6222cd",
   "metadata": {},
   "outputs": [],
   "source": [
    "X = df.drop('encoded',axis=1)\n",
    "Y = df['encoded']"
   ]
  },
  {
   "cell_type": "code",
   "execution_count": 77,
   "id": "0b466cab-743b-43f3-9484-3cb15a09ad4e",
   "metadata": {},
   "outputs": [
    {
     "data": {
      "text/html": [
       "<div>\n",
       "<style scoped>\n",
       "    .dataframe tbody tr th:only-of-type {\n",
       "        vertical-align: middle;\n",
       "    }\n",
       "\n",
       "    .dataframe tbody tr th {\n",
       "        vertical-align: top;\n",
       "    }\n",
       "\n",
       "    .dataframe thead th {\n",
       "        text-align: right;\n",
       "    }\n",
       "</style>\n",
       "<table border=\"1\" class=\"dataframe\">\n",
       "  <thead>\n",
       "    <tr style=\"text-align: right;\">\n",
       "      <th></th>\n",
       "      <th>Id</th>\n",
       "      <th>SepalLengthCm</th>\n",
       "      <th>SepalWidthCm</th>\n",
       "      <th>PetalLengthCm</th>\n",
       "      <th>PetalWidthCm</th>\n",
       "    </tr>\n",
       "  </thead>\n",
       "  <tbody>\n",
       "    <tr>\n",
       "      <th>0</th>\n",
       "      <td>1</td>\n",
       "      <td>5.1</td>\n",
       "      <td>3.5</td>\n",
       "      <td>1.4</td>\n",
       "      <td>0.2</td>\n",
       "    </tr>\n",
       "    <tr>\n",
       "      <th>1</th>\n",
       "      <td>2</td>\n",
       "      <td>4.9</td>\n",
       "      <td>3.0</td>\n",
       "      <td>1.4</td>\n",
       "      <td>0.2</td>\n",
       "    </tr>\n",
       "    <tr>\n",
       "      <th>2</th>\n",
       "      <td>3</td>\n",
       "      <td>4.7</td>\n",
       "      <td>3.2</td>\n",
       "      <td>1.3</td>\n",
       "      <td>0.2</td>\n",
       "    </tr>\n",
       "    <tr>\n",
       "      <th>3</th>\n",
       "      <td>4</td>\n",
       "      <td>4.6</td>\n",
       "      <td>3.1</td>\n",
       "      <td>1.5</td>\n",
       "      <td>0.2</td>\n",
       "    </tr>\n",
       "    <tr>\n",
       "      <th>4</th>\n",
       "      <td>5</td>\n",
       "      <td>5.0</td>\n",
       "      <td>3.6</td>\n",
       "      <td>1.4</td>\n",
       "      <td>0.2</td>\n",
       "    </tr>\n",
       "  </tbody>\n",
       "</table>\n",
       "</div>"
      ],
      "text/plain": [
       "   Id  SepalLengthCm  SepalWidthCm  PetalLengthCm  PetalWidthCm\n",
       "0   1            5.1           3.5            1.4           0.2\n",
       "1   2            4.9           3.0            1.4           0.2\n",
       "2   3            4.7           3.2            1.3           0.2\n",
       "3   4            4.6           3.1            1.5           0.2\n",
       "4   5            5.0           3.6            1.4           0.2"
      ]
     },
     "execution_count": 77,
     "metadata": {},
     "output_type": "execute_result"
    }
   ],
   "source": [
    "X.head()"
   ]
  },
  {
   "cell_type": "code",
   "execution_count": 79,
   "id": "31954a1a-ad6f-4536-8e83-3656725b80d4",
   "metadata": {},
   "outputs": [
    {
     "data": {
      "text/plain": [
       "0    0\n",
       "1    0\n",
       "2    0\n",
       "3    0\n",
       "4    0\n",
       "Name: encoded, dtype: int32"
      ]
     },
     "execution_count": 79,
     "metadata": {},
     "output_type": "execute_result"
    }
   ],
   "source": [
    "Y.head()"
   ]
  },
  {
   "cell_type": "code",
   "execution_count": null,
   "id": "1dc68c9e-0655-4c07-aafc-9e81d2f305c8",
   "metadata": {},
   "outputs": [],
   "source": []
  },
  {
   "cell_type": "code",
   "execution_count": 103,
   "id": "1cb557cd-8c1b-45e9-a425-01cda910e68a",
   "metadata": {},
   "outputs": [],
   "source": [
    "X_train, X_test,Y_train,Y_test = train_test_split(X,Y,test_size = 0.2 , random_state=2)"
   ]
  },
  {
   "cell_type": "code",
   "execution_count": 105,
   "id": "25315336-8886-4654-81c5-14b8006e3830",
   "metadata": {},
   "outputs": [
    {
     "data": {
      "text/html": [
       "<div>\n",
       "<style scoped>\n",
       "    .dataframe tbody tr th:only-of-type {\n",
       "        vertical-align: middle;\n",
       "    }\n",
       "\n",
       "    .dataframe tbody tr th {\n",
       "        vertical-align: top;\n",
       "    }\n",
       "\n",
       "    .dataframe thead th {\n",
       "        text-align: right;\n",
       "    }\n",
       "</style>\n",
       "<table border=\"1\" class=\"dataframe\">\n",
       "  <thead>\n",
       "    <tr style=\"text-align: right;\">\n",
       "      <th></th>\n",
       "      <th>Id</th>\n",
       "      <th>SepalLengthCm</th>\n",
       "      <th>SepalWidthCm</th>\n",
       "      <th>PetalLengthCm</th>\n",
       "      <th>PetalWidthCm</th>\n",
       "    </tr>\n",
       "  </thead>\n",
       "  <tbody>\n",
       "    <tr>\n",
       "      <th>126</th>\n",
       "      <td>127</td>\n",
       "      <td>6.2</td>\n",
       "      <td>2.8</td>\n",
       "      <td>4.8</td>\n",
       "      <td>1.8</td>\n",
       "    </tr>\n",
       "    <tr>\n",
       "      <th>23</th>\n",
       "      <td>24</td>\n",
       "      <td>5.1</td>\n",
       "      <td>3.3</td>\n",
       "      <td>1.7</td>\n",
       "      <td>0.5</td>\n",
       "    </tr>\n",
       "    <tr>\n",
       "      <th>64</th>\n",
       "      <td>65</td>\n",
       "      <td>5.6</td>\n",
       "      <td>2.9</td>\n",
       "      <td>3.6</td>\n",
       "      <td>1.3</td>\n",
       "    </tr>\n",
       "    <tr>\n",
       "      <th>117</th>\n",
       "      <td>118</td>\n",
       "      <td>7.7</td>\n",
       "      <td>3.8</td>\n",
       "      <td>6.7</td>\n",
       "      <td>2.2</td>\n",
       "    </tr>\n",
       "    <tr>\n",
       "      <th>84</th>\n",
       "      <td>85</td>\n",
       "      <td>5.4</td>\n",
       "      <td>3.0</td>\n",
       "      <td>4.5</td>\n",
       "      <td>1.5</td>\n",
       "    </tr>\n",
       "  </tbody>\n",
       "</table>\n",
       "</div>"
      ],
      "text/plain": [
       "      Id  SepalLengthCm  SepalWidthCm  PetalLengthCm  PetalWidthCm\n",
       "126  127            6.2           2.8            4.8           1.8\n",
       "23    24            5.1           3.3            1.7           0.5\n",
       "64    65            5.6           2.9            3.6           1.3\n",
       "117  118            7.7           3.8            6.7           2.2\n",
       "84    85            5.4           3.0            4.5           1.5"
      ]
     },
     "execution_count": 105,
     "metadata": {},
     "output_type": "execute_result"
    }
   ],
   "source": [
    "X_train.head()"
   ]
  },
  {
   "cell_type": "code",
   "execution_count": 107,
   "id": "05b9dea4-68dd-4a6f-873e-c9f88b4204e9",
   "metadata": {},
   "outputs": [
    {
     "data": {
      "text/plain": [
       "(120, 5)"
      ]
     },
     "execution_count": 107,
     "metadata": {},
     "output_type": "execute_result"
    }
   ],
   "source": [
    "X_train.shape"
   ]
  },
  {
   "cell_type": "code",
   "execution_count": 109,
   "id": "861602b1-1a11-4c9b-8d9b-fa547d3807d2",
   "metadata": {},
   "outputs": [
    {
     "data": {
      "text/html": [
       "<div>\n",
       "<style scoped>\n",
       "    .dataframe tbody tr th:only-of-type {\n",
       "        vertical-align: middle;\n",
       "    }\n",
       "\n",
       "    .dataframe tbody tr th {\n",
       "        vertical-align: top;\n",
       "    }\n",
       "\n",
       "    .dataframe thead th {\n",
       "        text-align: right;\n",
       "    }\n",
       "</style>\n",
       "<table border=\"1\" class=\"dataframe\">\n",
       "  <thead>\n",
       "    <tr style=\"text-align: right;\">\n",
       "      <th></th>\n",
       "      <th>Id</th>\n",
       "      <th>SepalLengthCm</th>\n",
       "      <th>SepalWidthCm</th>\n",
       "      <th>PetalLengthCm</th>\n",
       "      <th>PetalWidthCm</th>\n",
       "    </tr>\n",
       "  </thead>\n",
       "  <tbody>\n",
       "    <tr>\n",
       "      <th>126</th>\n",
       "      <td>127</td>\n",
       "      <td>6.2</td>\n",
       "      <td>2.8</td>\n",
       "      <td>4.8</td>\n",
       "      <td>1.8</td>\n",
       "    </tr>\n",
       "    <tr>\n",
       "      <th>23</th>\n",
       "      <td>24</td>\n",
       "      <td>5.1</td>\n",
       "      <td>3.3</td>\n",
       "      <td>1.7</td>\n",
       "      <td>0.5</td>\n",
       "    </tr>\n",
       "    <tr>\n",
       "      <th>64</th>\n",
       "      <td>65</td>\n",
       "      <td>5.6</td>\n",
       "      <td>2.9</td>\n",
       "      <td>3.6</td>\n",
       "      <td>1.3</td>\n",
       "    </tr>\n",
       "    <tr>\n",
       "      <th>117</th>\n",
       "      <td>118</td>\n",
       "      <td>7.7</td>\n",
       "      <td>3.8</td>\n",
       "      <td>6.7</td>\n",
       "      <td>2.2</td>\n",
       "    </tr>\n",
       "    <tr>\n",
       "      <th>84</th>\n",
       "      <td>85</td>\n",
       "      <td>5.4</td>\n",
       "      <td>3.0</td>\n",
       "      <td>4.5</td>\n",
       "      <td>1.5</td>\n",
       "    </tr>\n",
       "  </tbody>\n",
       "</table>\n",
       "</div>"
      ],
      "text/plain": [
       "      Id  SepalLengthCm  SepalWidthCm  PetalLengthCm  PetalWidthCm\n",
       "126  127            6.2           2.8            4.8           1.8\n",
       "23    24            5.1           3.3            1.7           0.5\n",
       "64    65            5.6           2.9            3.6           1.3\n",
       "117  118            7.7           3.8            6.7           2.2\n",
       "84    85            5.4           3.0            4.5           1.5"
      ]
     },
     "execution_count": 109,
     "metadata": {},
     "output_type": "execute_result"
    }
   ],
   "source": [
    "X_train.head()"
   ]
  },
  {
   "cell_type": "code",
   "execution_count": 111,
   "id": "ded85ca4-d1ca-4c61-9d85-8c1e886fd7cf",
   "metadata": {},
   "outputs": [
    {
     "data": {
      "text/plain": [
       "(30, 5)"
      ]
     },
     "execution_count": 111,
     "metadata": {},
     "output_type": "execute_result"
    }
   ],
   "source": [
    "X_test.shape"
   ]
  },
  {
   "cell_type": "code",
   "execution_count": 113,
   "id": "de026c68-91a6-4aca-93ab-d9bbc641dde1",
   "metadata": {},
   "outputs": [
    {
     "data": {
      "text/html": [
       "<div>\n",
       "<style scoped>\n",
       "    .dataframe tbody tr th:only-of-type {\n",
       "        vertical-align: middle;\n",
       "    }\n",
       "\n",
       "    .dataframe tbody tr th {\n",
       "        vertical-align: top;\n",
       "    }\n",
       "\n",
       "    .dataframe thead th {\n",
       "        text-align: right;\n",
       "    }\n",
       "</style>\n",
       "<table border=\"1\" class=\"dataframe\">\n",
       "  <thead>\n",
       "    <tr style=\"text-align: right;\">\n",
       "      <th></th>\n",
       "      <th>Id</th>\n",
       "      <th>SepalLengthCm</th>\n",
       "      <th>SepalWidthCm</th>\n",
       "      <th>PetalLengthCm</th>\n",
       "      <th>PetalWidthCm</th>\n",
       "    </tr>\n",
       "  </thead>\n",
       "  <tbody>\n",
       "    <tr>\n",
       "      <th>6</th>\n",
       "      <td>7</td>\n",
       "      <td>4.6</td>\n",
       "      <td>3.4</td>\n",
       "      <td>1.4</td>\n",
       "      <td>0.3</td>\n",
       "    </tr>\n",
       "    <tr>\n",
       "      <th>3</th>\n",
       "      <td>4</td>\n",
       "      <td>4.6</td>\n",
       "      <td>3.1</td>\n",
       "      <td>1.5</td>\n",
       "      <td>0.2</td>\n",
       "    </tr>\n",
       "    <tr>\n",
       "      <th>113</th>\n",
       "      <td>114</td>\n",
       "      <td>5.7</td>\n",
       "      <td>2.5</td>\n",
       "      <td>5.0</td>\n",
       "      <td>2.0</td>\n",
       "    </tr>\n",
       "    <tr>\n",
       "      <th>12</th>\n",
       "      <td>13</td>\n",
       "      <td>4.8</td>\n",
       "      <td>3.0</td>\n",
       "      <td>1.4</td>\n",
       "      <td>0.1</td>\n",
       "    </tr>\n",
       "    <tr>\n",
       "      <th>24</th>\n",
       "      <td>25</td>\n",
       "      <td>4.8</td>\n",
       "      <td>3.4</td>\n",
       "      <td>1.9</td>\n",
       "      <td>0.2</td>\n",
       "    </tr>\n",
       "  </tbody>\n",
       "</table>\n",
       "</div>"
      ],
      "text/plain": [
       "      Id  SepalLengthCm  SepalWidthCm  PetalLengthCm  PetalWidthCm\n",
       "6      7            4.6           3.4            1.4           0.3\n",
       "3      4            4.6           3.1            1.5           0.2\n",
       "113  114            5.7           2.5            5.0           2.0\n",
       "12    13            4.8           3.0            1.4           0.1\n",
       "24    25            4.8           3.4            1.9           0.2"
      ]
     },
     "execution_count": 113,
     "metadata": {},
     "output_type": "execute_result"
    }
   ],
   "source": [
    "X_test.head()"
   ]
  },
  {
   "cell_type": "code",
   "execution_count": 115,
   "id": "db522ded-fc0d-401e-8c76-7a9229567cf8",
   "metadata": {},
   "outputs": [
    {
     "data": {
      "text/plain": [
       "(120,)"
      ]
     },
     "execution_count": 115,
     "metadata": {},
     "output_type": "execute_result"
    }
   ],
   "source": [
    "Y_train.shape"
   ]
  },
  {
   "cell_type": "code",
   "execution_count": 119,
   "id": "c1991f73-a4c1-4c03-ab1b-a4ece3119f7f",
   "metadata": {},
   "outputs": [
    {
     "data": {
      "text/plain": [
       "126    2\n",
       "23     0\n",
       "64     1\n",
       "117    2\n",
       "84     1\n",
       "Name: encoded, dtype: int32"
      ]
     },
     "execution_count": 119,
     "metadata": {},
     "output_type": "execute_result"
    }
   ],
   "source": [
    "Y_train.head()"
   ]
  },
  {
   "cell_type": "code",
   "execution_count": 121,
   "id": "0e0a062a-f104-48db-9adc-6630abce4100",
   "metadata": {},
   "outputs": [
    {
     "data": {
      "text/plain": [
       "(30,)"
      ]
     },
     "execution_count": 121,
     "metadata": {},
     "output_type": "execute_result"
    }
   ],
   "source": [
    "Y_test.shape"
   ]
  },
  {
   "cell_type": "code",
   "execution_count": 123,
   "id": "9c07ac2a-6a9b-4752-8749-bf2ada52f4fd",
   "metadata": {},
   "outputs": [
    {
     "data": {
      "text/plain": [
       "6      0\n",
       "3      0\n",
       "113    2\n",
       "12     0\n",
       "24     0\n",
       "Name: encoded, dtype: int32"
      ]
     },
     "execution_count": 123,
     "metadata": {},
     "output_type": "execute_result"
    }
   ],
   "source": [
    "Y_test.head()"
   ]
  },
  {
   "cell_type": "code",
   "execution_count": 125,
   "id": "a672100a-59d3-49be-a72e-9212627a952c",
   "metadata": {},
   "outputs": [],
   "source": [
    "X_train_scaled = scaler.fit_transform(X_train)\n",
    "X_test_scaled = scaler.transform(X_test)"
   ]
  },
  {
   "cell_type": "markdown",
   "id": "0398de12-96fe-4077-a837-adb44104e537",
   "metadata": {},
   "source": [
    "### After we scaled they changed to numpy array so if we want to convert to dataframe we need to apply pd.DataFrame()"
   ]
  },
  {
   "cell_type": "code",
   "execution_count": 129,
   "id": "659996a7-fde9-4551-8a19-8280238904ab",
   "metadata": {},
   "outputs": [
    {
     "data": {
      "text/plain": [
       "array([[ 1.15368203,  0.37346331, -0.57939897,  0.54063457,  0.74225155],\n",
       "       [-1.24247154, -0.9845851 ,  0.55297687, -1.24706373, -0.99115027],\n",
       "       [-0.28866284, -0.36729037, -0.3529238 , -0.15137768,  0.07555854],\n",
       "       [ 0.94430939,  2.22534751,  1.68535271,  1.63632062,  1.27560595],\n",
       "       [ 0.1766097 , -0.61420826, -0.12644864,  0.36763151,  0.34223574],\n",
       "       [-1.45184418, -0.12037247,  2.13830304, -1.53540217, -1.39116607],\n",
       "       [ 1.29326379,  0.6203812 , -0.57939897,  1.00197606,  1.27560595],\n",
       "       [ 0.33945509,  0.25000437, -0.12644864,  0.42529919,  0.20889714],\n",
       "       [-0.54456273, -0.49074931, -1.71177481,  0.07929307,  0.07555854],\n",
       "       [ 1.50263643,  1.23767594,  0.10002653,  0.71363763,  1.40894455],\n",
       "       [ 0.03702794,  0.12654542, -0.3529238 ,  0.36763151,  0.34223574],\n",
       "       [ 0.47903685,  0.37346331, -0.3529238 ,  0.25229613,  0.07555854],\n",
       "       [ 1.54916369,  1.11421699,  0.3265017 ,  1.17497913,  1.40894455],\n",
       "       [ 0.38598234, -1.10804404, -1.71177481, -0.32438074, -0.32445726],\n",
       "       [-1.52163506, -1.35496194,  0.77945204, -1.30473142, -1.39116607],\n",
       "       [ 1.33979104,  0.25000437, -1.03234931,  1.00197606,  0.20889714],\n",
       "       [-1.1261534 , -0.86112615,  0.77945204, -1.4200668 , -1.39116607],\n",
       "       [-0.26539921,  0.99075804,  0.10002653,  0.30996382,  0.20889714],\n",
       "       [-1.77753496, -0.9845851 ,  1.0059272 , -1.4200668 , -1.39116607],\n",
       "       [-1.14941703, -0.86112615,  1.0059272 , -1.36239911, -1.39116607],\n",
       "       [-0.94004439, -0.49074931,  1.0059272 , -1.47773448, -1.39116607],\n",
       "       [ 0.68840949, -1.23150299, -1.25882447,  0.36763151,  0.60891295],\n",
       "       [ 1.66548182,  0.37346331,  0.77945204,  0.88664069,  1.40894455],\n",
       "       [ 1.27000016,  2.4722654 ,  1.68535271,  1.46331756,  1.00892875],\n",
       "       [-1.31226242, -0.61420826,  0.77945204, -1.24706373, -1.39116607],\n",
       "       [ 1.4793728 ,  0.99075804,  0.10002653,  1.00197606,  1.54228315],\n",
       "       [ 1.3863183 ,  0.49692226,  0.77945204,  1.00197606,  1.54228315],\n",
       "       [ 0.66514586,  2.10188856, -0.12644864,  1.57865294,  1.14226735],\n",
       "       [ 0.99083664,  0.12654542, -1.93824998,  0.65596994,  0.34223574],\n",
       "       [-1.47510781, -1.97225667, -0.12644864, -1.59306986, -1.52450467],\n",
       "       [-1.07962615, -1.35496194,  0.10002653, -1.30473142, -1.39116607],\n",
       "       [ 0.57209136, -0.12037247, -0.80587414,  0.71363763,  0.87559015],\n",
       "       [ 0.5255641 , -0.24383142, -0.57939897,  0.13696076,  0.07555854],\n",
       "       [-0.40498097, -0.86112615, -0.80587414,  0.02162538,  0.20889714],\n",
       "       [ 1.36305467,  2.22534751, -0.12644864,  1.2903145 ,  1.40894455],\n",
       "       [ 1.08389115,  0.49692226, -0.80587414,  0.59830225,  0.74225155],\n",
       "       [-0.12581745,  0.25000437, -0.57939897,  0.07929307,  0.07555854],\n",
       "       [-1.28899879, -0.9845851 ,  1.45887754, -1.36239911, -1.12448887],\n",
       "       [-0.49803548, -0.24383142, -0.57939897,  0.36763151,  0.07555854],\n",
       "       [-1.40531693, -0.61420826,  1.91182787, -1.47773448, -1.12448887],\n",
       "       [ 0.87451851, -0.12037247, -0.57939897,  0.71363763,  1.54228315],\n",
       "       [ 0.36271872, -0.12037247, -1.03234931,  0.07929307, -0.05778006],\n",
       "       [ 0.50230048, -0.9845851 , -1.25882447, -0.4973838 , -0.19111866],\n",
       "       [-1.35878967, -0.24383142,  1.68535271, -1.24706373, -1.25782747],\n",
       "       [ 0.10681882, -0.49074931, -1.48529964, -0.09370999, -0.32445726],\n",
       "       [-0.35845372,  0.00308647, -0.12644864,  0.19462844,  0.34223574],\n",
       "       [ 0.22313695,  0.99075804,  0.10002653,  0.48296688,  0.34223574],\n",
       "       [ 1.06062752,  2.22534751, -0.57939897,  1.63632062,  1.00892875],\n",
       "       [-1.75427133, -1.23150299, -0.12644864, -1.4200668 , -1.39116607],\n",
       "       [-0.47477185,  0.49692226,  0.55297687,  0.48296688,  0.47557434],\n",
       "       [-1.33552605, -0.9845851 ,  1.68535271, -1.36239911, -1.25782747],\n",
       "       [ 0.13008245, -0.12037247, -0.80587414,  0.02162538, -0.05778006],\n",
       "       [ 1.01410027,  1.23767594,  0.3265017 ,  1.05964375,  1.40894455],\n",
       "       [-1.56816231, -1.23150299,  0.10002653, -1.36239911, -1.52450467],\n",
       "       [-0.38171734, -1.10804404, -2.39120031, -0.20904537, -0.32445726],\n",
       "       [-0.98657164, -1.23150299,  0.10002653, -1.36239911, -1.52450467],\n",
       "       [-0.84698988, -1.10804404,  1.0059272 , -1.47773448, -1.25782747],\n",
       "       [-1.54489869, -0.61420826,  1.45887754, -1.36239911, -1.39116607],\n",
       "       [ 0.82799125,  1.11421699, -0.12644864,  0.94430838,  1.14226735],\n",
       "       [ 0.54882773,  0.49692226,  0.55297687,  1.23264681,  1.67562175],\n",
       "       [-1.17268066, -1.10804404,  0.77945204, -1.30473142, -1.12448887],\n",
       "       [-1.0330989 , -0.86112615,  2.36477821, -1.36239911, -1.52450467],\n",
       "       [ 1.61895457,  0.49692226, -1.25882447,  0.65596994,  0.87559015],\n",
       "       [ 0.96757301,  2.22534751, -1.03234931,  1.751656  ,  1.40894455],\n",
       "       [-0.33519009,  0.12654542, -1.93824998,  0.07929307, -0.32445726],\n",
       "       [ 0.75820037,  1.60805278,  1.23240237,  1.2903145 ,  1.67562175],\n",
       "       [-0.45150822, -1.23150299, -1.48529964, -0.32438074, -0.32445726],\n",
       "       [-0.07929019,  0.25000437, -0.57939897,  0.48296688, -0.05778006],\n",
       "       [ 1.64221819,  0.74384015, -0.12644864,  0.77130532,  1.00892875],\n",
       "       [-1.3820533 , -0.9845851 ,  1.0059272 , -1.4200668 , -1.25782747],\n",
       "       [ 1.24673654,  1.85497067, -0.57939897,  1.2903145 ,  0.87559015],\n",
       "       [ 1.68874545,  0.00308647, -0.12644864,  0.71363763,  0.74225155],\n",
       "       [ 0.80472763,  0.6203812 , -0.80587414,  0.828973  ,  0.87559015],\n",
       "       [-1.59142594, -1.84879772, -0.3529238 , -1.4200668 , -1.39116607],\n",
       "       [ 1.03736389, -0.36729037, -0.57939897,  0.59830225,  1.00892875],\n",
       "       [-0.87025351, -0.9845851 ,  0.77945204, -1.36239911, -1.39116607],\n",
       "       [-0.63761724, -1.10804404,  0.55297687, -1.4200668 , -1.39116607],\n",
       "       [ 0.06029157, -0.24383142, -1.03234931, -0.20904537, -0.32445726],\n",
       "       [ 1.45610918,  1.23767594,  0.10002653,  0.88664069,  1.14226735],\n",
       "       [ 0.31619146, -0.49074931, -1.03234931,  0.30996382, -0.05778006],\n",
       "       [ 1.31652742,  0.49692226, -0.57939897,  0.71363763,  0.34223574],\n",
       "       [-0.61435361,  1.36113488,  0.3265017 ,  0.48296688,  0.20889714],\n",
       "       [-0.00949931,  1.11421699, -0.57939897,  0.54063457,  0.20889714],\n",
       "       [ 0.781464  ,  0.74384015,  0.3265017 ,  0.71363763,  1.00892875],\n",
       "       [-0.56782636,  1.23767594,  0.10002653,  0.59830225,  0.34223574],\n",
       "       [ 0.08355519, -0.49074931, -1.48529964, -0.0360423 , -0.19111866],\n",
       "       [-0.24213558, -0.36729037, -0.12644864,  0.36763151,  0.34223574],\n",
       "       [ 1.43284555,  0.12654542, -0.12644864,  0.54063457,  0.74225155],\n",
       "       [ 0.15334607,  0.12654542, -0.80587414,  0.71363763,  0.47557434],\n",
       "       [ 1.52590006, -0.12037247, -0.80587414,  0.71363763,  0.87559015],\n",
       "       [-0.14908108,  0.00308647,  0.3265017 ,  0.54063457,  0.74225155],\n",
       "       [-0.70740812, -0.9845851 ,  1.68535271, -1.30473142, -1.39116607],\n",
       "       [-0.19560833,  0.37346331, -1.93824998,  0.36763151,  0.34223574],\n",
       "       [ 0.26966421, -0.36729037, -0.12644864,  0.13696076,  0.07555854],\n",
       "       [-0.1723447 , -0.36729037, -1.25882447,  0.02162538, -0.19111866],\n",
       "       [-0.21887196, -0.12037247, -0.80587414,  0.13696076, -0.32445726],\n",
       "       [ 1.40958192,  0.6203812 ,  0.10002653,  0.94430838,  0.74225155],\n",
       "       [-0.4282446 ,  0.8672991 , -0.3529238 ,  0.42529919,  0.07555854],\n",
       "       [-1.00983527, -0.49074931,  2.59125338, -1.4200668 , -1.39116607],\n",
       "       [-0.89351714, -1.84879772, -0.12644864, -1.47773448, -1.39116607],\n",
       "       [ 0.61861861,  0.49692226, -0.3529238 ,  1.00197606,  0.74225155],\n",
       "       [-0.59108999,  0.6203812 ,  0.3265017 ,  0.36763151,  0.34223574],\n",
       "       [ 0.71167312,  1.73151172, -0.3529238 ,  1.40564987,  0.74225155],\n",
       "       [-1.68448045, -1.10804404,  1.23240237, -1.4200668 , -1.39116607],\n",
       "       [ 0.59535498,  1.48459383, -0.12644864,  1.17497913,  1.14226735],\n",
       "       [-0.91678076, -1.23150299,  0.10002653, -1.36239911, -1.52450467],\n",
       "       [ 0.92104576,  0.74384015, -0.12644864,  0.94430838,  0.74225155],\n",
       "       [ 1.10715478,  0.99075804,  0.55297687,  1.05964375,  1.14226735],\n",
       "       [-1.05636252, -0.61420826,  0.77945204, -1.36239911, -1.12448887],\n",
       "       [-0.31192646,  0.25000437, -0.3529238 ,  0.48296688,  0.20889714],\n",
       "       [-0.68414449, -1.60187983,  0.3265017 , -1.4200668 , -1.39116607],\n",
       "       [ 1.59569094,  0.99075804, -0.12644864,  0.77130532,  1.40894455],\n",
       "       [ 0.4325096 , -0.24383142, -0.12644864,  0.19462844, -0.05778006],\n",
       "       [-1.61468957, -1.10804404,  0.77945204, -1.36239911, -1.39116607],\n",
       "       [ 0.64188224,  0.74384015, -0.12644864,  1.11731144,  1.27560595],\n",
       "       [-0.03276294,  0.8672991 , -0.12644864,  0.30996382,  0.20889714],\n",
       "       [-0.777199  , -1.10804404,  1.0059272 , -1.30473142, -0.85781167],\n",
       "       [-1.26573516, -1.60187983,  1.23240237, -1.65073754, -1.39116607],\n",
       "       [-0.10255382,  0.49692226, -1.25882447,  0.59830225,  0.34223574],\n",
       "       [-1.42858055, -0.24383142,  3.04420371, -1.36239911, -1.12448887]])"
      ]
     },
     "execution_count": 129,
     "metadata": {},
     "output_type": "execute_result"
    }
   ],
   "source": [
    "X_train_scaled"
   ]
  },
  {
   "cell_type": "code",
   "execution_count": 131,
   "id": "ac10b9fb-5e31-4cf0-9a10-ad635b7405bc",
   "metadata": {},
   "outputs": [
    {
     "data": {
      "text/plain": [
       "array([[-1.63795319, -1.60187983,  0.77945204, -1.4200668 , -1.25782747],\n",
       "       [-1.70774408, -1.60187983,  0.10002653, -1.36239911, -1.39116607],\n",
       "       [ 0.85125488, -0.24383142, -1.25882447,  0.65596994,  1.00892875],\n",
       "       [-1.49837143, -1.35496194, -0.12644864, -1.4200668 , -1.52450467],\n",
       "       [-1.21920791, -1.35496194,  0.77945204, -1.13172836, -1.39116607],\n",
       "       [ 1.22347291,  1.60805278, -0.12644864,  1.11731144,  0.47557434],\n",
       "       [-1.19594428, -1.10804404, -0.12644864, -1.30473142, -1.39116607],\n",
       "       [ 0.73493675,  0.99075804, -1.25882447,  1.11731144,  0.74225155],\n",
       "       [ 1.20020928,  0.6203812 , -0.57939897,  1.00197606,  1.14226735],\n",
       "       [-0.73067175, -1.35496194, -0.12644864, -1.4200668 , -1.25782747],\n",
       "       [-0.66088087, -0.7376672 ,  1.45887754, -1.36239911, -1.39116607],\n",
       "       [-0.80046263, -1.84879772,  0.3265017 , -1.47773448, -1.39116607],\n",
       "       [-0.96330802, -1.10804404,  0.3265017 , -1.53540217, -1.39116607],\n",
       "       [-1.66121682, -0.61420826,  1.91182787, -1.24706373, -1.12448887],\n",
       "       [ 0.19987333,  0.12654542,  0.77945204,  0.36763151,  0.47557434],\n",
       "       [-0.52129911,  0.74384015, -0.57939897,  0.42529919,  0.34223574],\n",
       "       [-0.82372625, -1.72533877, -1.71177481, -1.47773448, -1.25782747],\n",
       "       [ 0.45577322, -0.24383142, -0.3529238 ,  0.19462844,  0.07555854],\n",
       "       [ 1.57242731,  0.99075804,  0.55297687,  1.05964375,  1.67562175],\n",
       "       [ 0.29292783, -0.49074931, -1.25882447,  0.07929307,  0.07555854],\n",
       "       [ 0.01376431,  0.99075804, -0.12644864,  0.65596994,  0.60891295],\n",
       "       [-0.05602657,  0.6203812 , -0.3529238 ,  0.25229613,  0.07555854],\n",
       "       [ 0.89778213,  0.6203812 ,  0.3265017 ,  0.828973  ,  1.40894455],\n",
       "       [ 0.40924597, -0.36729037, -0.80587414,  0.19462844,  0.07555854],\n",
       "       [ 0.24640058,  0.49692226, -1.71177481,  0.30996382,  0.07555854],\n",
       "       [-1.10288978, -1.47842088,  0.3265017 , -1.30473142, -1.39116607],\n",
       "       [-1.7310077 , -1.47842088,  0.3265017 , -1.47773448, -1.39116607],\n",
       "       [ 1.17694566,  0.25000437, -0.12644864,  0.59830225,  0.74225155],\n",
       "       [-0.75393537, -0.9845851 ,  1.68535271, -1.13172836, -1.12448887],\n",
       "       [ 1.1304184 ,  1.60805278,  0.3265017 ,  1.23264681,  0.74225155]])"
      ]
     },
     "execution_count": 131,
     "metadata": {},
     "output_type": "execute_result"
    }
   ],
   "source": [
    "X_test_scaled"
   ]
  },
  {
   "cell_type": "code",
   "execution_count": 138,
   "id": "f99c0813-0018-479d-afb3-8e58db391227",
   "metadata": {},
   "outputs": [],
   "source": [
    "X_train_scaleddf= pd.DataFrame(X_train_scaled,columns = X.columns)"
   ]
  },
  {
   "cell_type": "code",
   "execution_count": 140,
   "id": "d1bd8049-2398-4f20-a13d-38120233ca0c",
   "metadata": {},
   "outputs": [
    {
     "data": {
      "text/html": [
       "<div>\n",
       "<style scoped>\n",
       "    .dataframe tbody tr th:only-of-type {\n",
       "        vertical-align: middle;\n",
       "    }\n",
       "\n",
       "    .dataframe tbody tr th {\n",
       "        vertical-align: top;\n",
       "    }\n",
       "\n",
       "    .dataframe thead th {\n",
       "        text-align: right;\n",
       "    }\n",
       "</style>\n",
       "<table border=\"1\" class=\"dataframe\">\n",
       "  <thead>\n",
       "    <tr style=\"text-align: right;\">\n",
       "      <th></th>\n",
       "      <th>Id</th>\n",
       "      <th>SepalLengthCm</th>\n",
       "      <th>SepalWidthCm</th>\n",
       "      <th>PetalLengthCm</th>\n",
       "      <th>PetalWidthCm</th>\n",
       "    </tr>\n",
       "  </thead>\n",
       "  <tbody>\n",
       "    <tr>\n",
       "      <th>0</th>\n",
       "      <td>1.153682</td>\n",
       "      <td>0.373463</td>\n",
       "      <td>-0.579399</td>\n",
       "      <td>0.540635</td>\n",
       "      <td>0.742252</td>\n",
       "    </tr>\n",
       "    <tr>\n",
       "      <th>1</th>\n",
       "      <td>-1.242472</td>\n",
       "      <td>-0.984585</td>\n",
       "      <td>0.552977</td>\n",
       "      <td>-1.247064</td>\n",
       "      <td>-0.991150</td>\n",
       "    </tr>\n",
       "    <tr>\n",
       "      <th>2</th>\n",
       "      <td>-0.288663</td>\n",
       "      <td>-0.367290</td>\n",
       "      <td>-0.352924</td>\n",
       "      <td>-0.151378</td>\n",
       "      <td>0.075559</td>\n",
       "    </tr>\n",
       "    <tr>\n",
       "      <th>3</th>\n",
       "      <td>0.944309</td>\n",
       "      <td>2.225348</td>\n",
       "      <td>1.685353</td>\n",
       "      <td>1.636321</td>\n",
       "      <td>1.275606</td>\n",
       "    </tr>\n",
       "    <tr>\n",
       "      <th>4</th>\n",
       "      <td>0.176610</td>\n",
       "      <td>-0.614208</td>\n",
       "      <td>-0.126449</td>\n",
       "      <td>0.367632</td>\n",
       "      <td>0.342236</td>\n",
       "    </tr>\n",
       "  </tbody>\n",
       "</table>\n",
       "</div>"
      ],
      "text/plain": [
       "         Id  SepalLengthCm  SepalWidthCm  PetalLengthCm  PetalWidthCm\n",
       "0  1.153682       0.373463     -0.579399       0.540635      0.742252\n",
       "1 -1.242472      -0.984585      0.552977      -1.247064     -0.991150\n",
       "2 -0.288663      -0.367290     -0.352924      -0.151378      0.075559\n",
       "3  0.944309       2.225348      1.685353       1.636321      1.275606\n",
       "4  0.176610      -0.614208     -0.126449       0.367632      0.342236"
      ]
     },
     "execution_count": 140,
     "metadata": {},
     "output_type": "execute_result"
    }
   ],
   "source": [
    "X_train_scaleddf.head()"
   ]
  },
  {
   "cell_type": "code",
   "execution_count": 142,
   "id": "cda2363b-f774-40bc-aa59-ebdcf73bb7c9",
   "metadata": {},
   "outputs": [],
   "source": [
    "X_test_scaleddf = pd.DataFrame(X_test_scaled,columns=X.columns)"
   ]
  },
  {
   "cell_type": "code",
   "execution_count": 144,
   "id": "1b898c62-4f6b-45c7-b235-dfc54bb8e7c3",
   "metadata": {},
   "outputs": [
    {
     "data": {
      "text/html": [
       "<div>\n",
       "<style scoped>\n",
       "    .dataframe tbody tr th:only-of-type {\n",
       "        vertical-align: middle;\n",
       "    }\n",
       "\n",
       "    .dataframe tbody tr th {\n",
       "        vertical-align: top;\n",
       "    }\n",
       "\n",
       "    .dataframe thead th {\n",
       "        text-align: right;\n",
       "    }\n",
       "</style>\n",
       "<table border=\"1\" class=\"dataframe\">\n",
       "  <thead>\n",
       "    <tr style=\"text-align: right;\">\n",
       "      <th></th>\n",
       "      <th>Id</th>\n",
       "      <th>SepalLengthCm</th>\n",
       "      <th>SepalWidthCm</th>\n",
       "      <th>PetalLengthCm</th>\n",
       "      <th>PetalWidthCm</th>\n",
       "    </tr>\n",
       "  </thead>\n",
       "  <tbody>\n",
       "    <tr>\n",
       "      <th>0</th>\n",
       "      <td>-1.637953</td>\n",
       "      <td>-1.601880</td>\n",
       "      <td>0.779452</td>\n",
       "      <td>-1.420067</td>\n",
       "      <td>-1.257827</td>\n",
       "    </tr>\n",
       "    <tr>\n",
       "      <th>1</th>\n",
       "      <td>-1.707744</td>\n",
       "      <td>-1.601880</td>\n",
       "      <td>0.100027</td>\n",
       "      <td>-1.362399</td>\n",
       "      <td>-1.391166</td>\n",
       "    </tr>\n",
       "    <tr>\n",
       "      <th>2</th>\n",
       "      <td>0.851255</td>\n",
       "      <td>-0.243831</td>\n",
       "      <td>-1.258824</td>\n",
       "      <td>0.655970</td>\n",
       "      <td>1.008929</td>\n",
       "    </tr>\n",
       "    <tr>\n",
       "      <th>3</th>\n",
       "      <td>-1.498371</td>\n",
       "      <td>-1.354962</td>\n",
       "      <td>-0.126449</td>\n",
       "      <td>-1.420067</td>\n",
       "      <td>-1.524505</td>\n",
       "    </tr>\n",
       "    <tr>\n",
       "      <th>4</th>\n",
       "      <td>-1.219208</td>\n",
       "      <td>-1.354962</td>\n",
       "      <td>0.779452</td>\n",
       "      <td>-1.131728</td>\n",
       "      <td>-1.391166</td>\n",
       "    </tr>\n",
       "  </tbody>\n",
       "</table>\n",
       "</div>"
      ],
      "text/plain": [
       "         Id  SepalLengthCm  SepalWidthCm  PetalLengthCm  PetalWidthCm\n",
       "0 -1.637953      -1.601880      0.779452      -1.420067     -1.257827\n",
       "1 -1.707744      -1.601880      0.100027      -1.362399     -1.391166\n",
       "2  0.851255      -0.243831     -1.258824       0.655970      1.008929\n",
       "3 -1.498371      -1.354962     -0.126449      -1.420067     -1.524505\n",
       "4 -1.219208      -1.354962      0.779452      -1.131728     -1.391166"
      ]
     },
     "execution_count": 144,
     "metadata": {},
     "output_type": "execute_result"
    }
   ],
   "source": [
    "X_test_scaleddf.head()"
   ]
  },
  {
   "cell_type": "code",
   "execution_count": null,
   "id": "7fd721ee-79e3-4971-8783-57e0b41e75d0",
   "metadata": {},
   "outputs": [],
   "source": []
  }
 ],
 "metadata": {
  "kernelspec": {
   "display_name": "Python [conda env:base] *",
   "language": "python",
   "name": "conda-base-py"
  },
  "language_info": {
   "codemirror_mode": {
    "name": "ipython",
    "version": 3
   },
   "file_extension": ".py",
   "mimetype": "text/x-python",
   "name": "python",
   "nbconvert_exporter": "python",
   "pygments_lexer": "ipython3",
   "version": "3.12.7"
  }
 },
 "nbformat": 4,
 "nbformat_minor": 5
}
